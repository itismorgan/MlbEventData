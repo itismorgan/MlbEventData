{
 "cells": [
  {
   "cell_type": "code",
   "execution_count": 1,
   "metadata": {},
   "outputs": [],
   "source": [
    "from operators.get_retrosheet_data import RetrosheetToStorage\n",
    "\n",
    "\n",
    "RETROSHEET_URL = \"https://retrosheet.org/downloads/alldata.zip\"\n",
    "DATA_DIR = \"data\""
   ]
  },
  {
   "cell_type": "code",
   "execution_count": 2,
   "metadata": {},
   "outputs": [
    {
     "name": "stderr",
     "output_type": "stream",
     "text": [
      "Downloading: 330MB [03:08, 1.74MB/s] \n"
     ]
    },
    {
     "data": {
      "text/plain": [
       "PosixPath('/Users/morgan/Documents/Codes/mlbEventData/data/retrosheet')"
      ]
     },
     "execution_count": 2,
     "metadata": {},
     "output_type": "execute_result"
    }
   ],
   "source": [
    "get_retrosheet_op = RetrosheetToStorage(url=RETROSHEET_URL)\n",
    "get_retrosheet_op.execute()\n",
    "get_retrosheet_op.data_dir"
   ]
  }
 ],
 "metadata": {
  "kernelspec": {
   "display_name": ".venv",
   "language": "python",
   "name": "python3"
  },
  "language_info": {
   "codemirror_mode": {
    "name": "ipython",
    "version": 3
   },
   "file_extension": ".py",
   "mimetype": "text/x-python",
   "name": "python",
   "nbconvert_exporter": "python",
   "pygments_lexer": "ipython3",
   "version": "3.11.9"
  }
 },
 "nbformat": 4,
 "nbformat_minor": 2
}
