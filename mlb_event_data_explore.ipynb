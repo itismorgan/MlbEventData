{
 "cells": [
  {
   "cell_type": "code",
   "execution_count": 1,
   "metadata": {},
   "outputs": [],
   "source": [
    "from pyspark.sql import SparkSession\n",
    "from pyspark.sql import types\n",
    "from pyspark.sql.functions import udf, monotonically_increasing_id, first, split"
   ]
  },
  {
   "cell_type": "code",
   "execution_count": 2,
   "metadata": {},
   "outputs": [
    {
     "name": "stderr",
     "output_type": "stream",
     "text": [
      "Setting default log level to \"WARN\".\n",
      "To adjust logging level use sc.setLogLevel(newLevel). For SparkR, use setLogLevel(newLevel).\n",
      "24/07/07 14:15:17 WARN NativeCodeLoader: Unable to load native-hadoop library for your platform... using builtin-java classes where applicable\n"
     ]
    }
   ],
   "source": [
    "spark = SparkSession.builder.getOrCreate()\n",
    "spark.sparkContext.setCheckpointDir('Data/checkpoints')"
   ]
  },
  {
   "cell_type": "code",
   "execution_count": 3,
   "metadata": {},
   "outputs": [],
   "source": [
    "# Helper Functions\n",
    "\n",
    "def concat_dataframes(dataframes: list):\n",
    "    out = dataframes.pop()\n",
    "    for df in dataframes:\n",
    "        out = out.union(df)\n",
    "    return out\n",
    "\n",
    "def rename_columns(dataframe, col_name_map:dict[str, str]):\n",
    "    for col in col_name_map.keys():\n",
    "        dataframe = dataframe.withColumnRenamed(col, col_name_map[col])\n",
    "    return dataframe\n",
    "\n",
    "def convert_df_datatypes(df, types:dict[str, list[str]]):\n",
    "    if isinstance(next(iter(types.values())), str): # types expects {'type': ['col1', ...]}\n",
    "        raise TypeError(\"types expects list of columns {'type': ['col1', ...]}\")\n",
    "    types = {types[k][i]: k for k in types.keys() for i in range(len(types[k]))}\n",
    "    return df.withColumns({k: df[k].cast(types[k]) for k in types})\n",
    "\n",
    "def split_csv_column(dataframe, csv_col:str):\n",
    "    col_count = dataframe.head().asDict()[csv_col].count(',') + 1\n",
    "    split_col = split(dataframe[csv_col], ',')\n",
    "    return dataframe.withColumns({f'csv{i}': split_col.getItem(i) for i in range(col_count)})"
   ]
  },
  {
   "cell_type": "markdown",
   "metadata": {},
   "source": [
    "## Source Data - Events"
   ]
  },
  {
   "cell_type": "code",
   "execution_count": 4,
   "metadata": {},
   "outputs": [],
   "source": [
    "DATA_PATH = 'Data/retrosheet/alldata/'\n",
    "EVENT_DIRS = ['events/', 'ngldata/events/', 'allstar/']\n"
   ]
  },
  {
   "cell_type": "code",
   "execution_count": 5,
   "metadata": {},
   "outputs": [],
   "source": [
    "schema = types.StructType([\n",
    "    types.StructField('event_type', types.StringType(), False),\n",
    "    types.StructField('col2', types.StringType()),\n",
    "    types.StructField('col3', types.StringType()),\n",
    "    types.StructField('col4', types.StringType()),\n",
    "    types.StructField('col5', types.StringType()),\n",
    "    types.StructField('col6', types.StringType()),\n",
    "    types.StructField('col7', types.StringType()),\n",
    "])"
   ]
  },
  {
   "cell_type": "code",
   "execution_count": 6,
   "metadata": {},
   "outputs": [],
   "source": [
    "# import all events\n",
    "events = [spark.read.csv(DATA_PATH + ed, schema=schema) for ed in EVENT_DIRS]\n",
    "events = concat_dataframes(events)"
   ]
  },
  {
   "cell_type": "code",
   "execution_count": 7,
   "metadata": {},
   "outputs": [
    {
     "name": "stderr",
     "output_type": "stream",
     "text": [
      "                                                                                \r"
     ]
    },
    {
     "data": {
      "text/plain": [
       "193453"
      ]
     },
     "execution_count": 7,
     "metadata": {},
     "output_type": "execute_result"
    }
   ],
   "source": [
    "# count of games\n",
    "events.filter(events.event_type == 'id').count()"
   ]
  },
  {
   "cell_type": "code",
   "execution_count": 8,
   "metadata": {},
   "outputs": [],
   "source": [
    "# used in udf\n",
    "class GameId:\n",
    "\n",
    "    def __init__(self):\n",
    "        self.current_id = None\n",
    "\n",
    "    def set_row_id(self, event_type, col2):\n",
    "        if event_type=='id':\n",
    "            self.current_id = col2\n",
    "        if not self.current_id:\n",
    "            raise ValueError('current_id cannot be None.')\n",
    "        return self.current_id"
   ]
  },
  {
   "cell_type": "code",
   "execution_count": 9,
   "metadata": {},
   "outputs": [
    {
     "name": "stderr",
     "output_type": "stream",
     "text": [
      "                                                                                \r"
     ]
    }
   ],
   "source": [
    "gi = GameId()\n",
    "set_game_id = udf(gi.set_row_id)\n",
    "\n",
    "events = events.withColumns({'game_id': set_game_id(events['event_type'], events['col2']),\n",
    "                            'record_id': monotonically_increasing_id()})\n",
    "events = events.checkpoint()  # checkpoint locks game_id & record_id"
   ]
  },
  {
   "cell_type": "code",
   "execution_count": 10,
   "metadata": {},
   "outputs": [
    {
     "name": "stdout",
     "output_type": "stream",
     "text": [
      "+----------+--------------------+--------------------+--------+----+----+--------------------+------------+---------+\n",
      "|event_type|                col2|                col3|    col4|col5|col6|                col7|     game_id|record_id|\n",
      "+----------+--------------------+--------------------+--------+----+----+--------------------+------------+---------+\n",
      "|        id|        NLS193807060|                NULL|    NULL|NULL|NULL|                NULL|NLS193807060|        0|\n",
      "|   version|                   1|                NULL|    NULL|NULL|NULL|                NULL|NLS193807060|        1|\n",
      "|      info|       inputprogvers|version 7RS(19) o...|    NULL|NULL|NULL|                NULL|NLS193807060|        2|\n",
      "|      info|             visteam|                 ALS|    NULL|NULL|NULL|                NULL|NLS193807060|        3|\n",
      "|      info|            hometeam|                 NLS|    NULL|NULL|NULL|                NULL|NLS193807060|        4|\n",
      "|      info|                date|          1938/07/06|    NULL|NULL|NULL|                NULL|NLS193807060|        5|\n",
      "|      info|                site|               CIN07|    NULL|NULL|NULL|                NULL|NLS193807060|        6|\n",
      "|      info|              number|                   0|    NULL|NULL|NULL|                NULL|NLS193807060|        7|\n",
      "|      info|           starttime|              0:00PM|    NULL|NULL|NULL|                NULL|NLS193807060|        8|\n",
      "|      info|            daynight|                 day|    NULL|NULL|NULL|                NULL|NLS193807060|        9|\n",
      "|      info|               usedh|               false|    NULL|NULL|NULL|                NULL|NLS193807060|       10|\n",
      "|      info|            gametype|             allstar|    NULL|NULL|NULL|                NULL|NLS193807060|       11|\n",
      "|      info|             umphome|            klemb901|    NULL|NULL|NULL|                NULL|NLS193807060|       12|\n",
      "|      info|               ump1b|            geish901|    NULL|NULL|NULL|                NULL|NLS193807060|       13|\n",
      "|      info|               ump2b|            balll901|    NULL|NULL|NULL|                NULL|NLS193807060|       14|\n",
      "|      info|               ump3b|            basis901|    NULL|NULL|NULL|                NULL|NLS193807060|       15|\n",
      "|      info|              scorer|     CHGO Daily News|    NULL|NULL|NULL|                NULL|NLS193807060|       16|\n",
      "|      info|          translator|         Tim Cashion|    NULL|NULL|NULL|                NULL|NLS193807060|       17|\n",
      "|      info|            inputter|         Tim Cashion|    NULL|NULL|NULL|                NULL|NLS193807060|       18|\n",
      "|      info|           inputtime|  1997/09/15 11:42PM|    NULL|NULL|NULL|                NULL|NLS193807060|       19|\n",
      "|      info|           howscored|                park|    NULL|NULL|NULL|                NULL|NLS193807060|       20|\n",
      "|      info|             pitches|                none|    NULL|NULL|NULL|                NULL|NLS193807060|       21|\n",
      "|      info|                temp|                   0|    NULL|NULL|NULL|                NULL|NLS193807060|       22|\n",
      "|      info|             winddir|             unknown|    NULL|NULL|NULL|                NULL|NLS193807060|       23|\n",
      "|      info|           windspeed|                  -1|    NULL|NULL|NULL|                NULL|NLS193807060|       24|\n",
      "|      info|           fieldcond|                 dry|    NULL|NULL|NULL|                NULL|NLS193807060|       25|\n",
      "|      info|              precip|                none|    NULL|NULL|NULL|                NULL|NLS193807060|       26|\n",
      "|      info|                 sky|               sunny|    NULL|NULL|NULL|                NULL|NLS193807060|       27|\n",
      "|      info|          timeofgame|                 118|    NULL|NULL|NULL|                NULL|NLS193807060|       28|\n",
      "|      info|          attendance|               27067|    NULL|NULL|NULL|                NULL|NLS193807060|       29|\n",
      "|      info|                  wp|            vandj101|    NULL|NULL|NULL|                NULL|NLS193807060|       30|\n",
      "|      info|                  lp|            gomel102|    NULL|NULL|NULL|                NULL|NLS193807060|       31|\n",
      "|      info|                save|            browm103|    NULL|NULL|NULL|                NULL|NLS193807060|       32|\n",
      "|      info|               gwrbi|                NULL|    NULL|NULL|NULL|                NULL|NLS193807060|       33|\n",
      "|     start|            kreem101|       Mike Kreevich|       0|   1|   7|                NULL|NLS193807060|       34|\n",
      "|     start|            gehrc101|   Charlie Gehringer|       0|   2|   4|                NULL|NLS193807060|       35|\n",
      "|     start|            avere101|        Earl Averill|       0|   3|   8|                NULL|NLS193807060|       36|\n",
      "|     start|            foxxj101|         Jimmie Foxx|       0|   4|   3|                NULL|NLS193807060|       37|\n",
      "|     start|            dimaj101|        Joe DiMaggio|       0|   5|   9|                NULL|NLS193807060|       38|\n",
      "|     start|            dickb101|         Bill Dickey|       0|   6|   2|                NULL|NLS193807060|       39|\n",
      "|     start|            cronj101|          Joe Cronin|       0|   7|   6|                NULL|NLS193807060|       40|\n",
      "|     start|            lewib103|         Buddy Lewis|       0|   8|   5|                NULL|NLS193807060|       41|\n",
      "|     start|            gomel102|         Lefty Gomez|       0|   9|   1|                NULL|NLS193807060|       42|\n",
      "|     start|            hacks101|           Stan Hack|       1|   1|   5|                NULL|NLS193807060|       43|\n",
      "|     start|            hermb101|        Billy Herman|       1|   2|   4|                NULL|NLS193807060|       44|\n",
      "|     start|            goodi101|        Ival Goodman|       1|   3|   9|                NULL|NLS193807060|       45|\n",
      "|     start|            medwj101|         Joe Medwick|       1|   4|   7|                NULL|NLS193807060|       46|\n",
      "|     start|            ott-m101|             Mel Ott|       1|   5|   8|                NULL|NLS193807060|       47|\n",
      "|     start|            lombe101|      Ernie Lombardi|       1|   6|   2|                NULL|NLS193807060|       48|\n",
      "|     start|            mccof101|     Frank McCormick|       1|   7|   3|                NULL|NLS193807060|       49|\n",
      "|     start|            durol101|        Leo Durocher|       1|   8|   6|                NULL|NLS193807060|       50|\n",
      "|     start|            vandj101|  Johnny Vander Meer|       1|   9|   1|                NULL|NLS193807060|       51|\n",
      "|       com|$Managers: Bill T...|                NULL|    NULL|NULL|NULL|                NULL|NLS193807060|       52|\n",
      "|      play|                   1|                   0|kreem101|  ??|NULL|                 8/F|NLS193807060|       53|\n",
      "|      play|                   1|                   0|gehrc101|  ??|NULL|                  13|NLS193807060|       54|\n",
      "|      play|                   1|                   0|avere101|  ??|NULL|                  43|NLS193807060|       55|\n",
      "|      play|                   1|                   1|hacks101|  ??|NULL|                  S7|NLS193807060|       56|\n",
      "|      play|                   1|                   1|hermb101|  ??|NULL|            E6/G.1-3|NLS193807060|       57|\n",
      "|      play|                   1|                   1|goodi101|  ??|NULL|                 K/C|NLS193807060|       58|\n",
      "|      play|                   1|                   1|medwj101|  ??|NULL|           8.3-H(UR)|NLS193807060|       59|\n",
      "|      play|                   1|                   1|ott-m101|  ??|NULL|                 8/F|NLS193807060|       60|\n",
      "|      play|                   2|                   0|foxxj101|  ??|NULL|                   K|NLS193807060|       61|\n",
      "|      play|                   2|                   0|dimaj101|  ??|NULL|                  13|NLS193807060|       62|\n",
      "|      play|                   2|                   0|dickb101|  ??|NULL|                  43|NLS193807060|       63|\n",
      "|      play|                   2|                   1|lombe101|  ??|NULL|                  53|NLS193807060|       64|\n",
      "|      play|                   2|                   1|mccof101|  ??|NULL|                 4/P|NLS193807060|       65|\n",
      "|      play|                   2|                   1|durol101|  ??|NULL|                  63|NLS193807060|       66|\n",
      "|      play|                   3|                   0|cronj101|  ??|NULL|                   S|NLS193807060|       67|\n",
      "|      play|                   3|                   0|lewib103|  ??|NULL|                 8/F|NLS193807060|       68|\n",
      "|      play|                   3|                   0|gomel102|  ??|NULL|              13.1-2|NLS193807060|       69|\n",
      "|      play|                   3|                   0|kreem101|  ??|NULL|                 4/F|NLS193807060|       70|\n",
      "|      play|                   3|                   1|vandj101|  ??|NULL|                  NP|NLS193807060|       71|\n",
      "|       sub|            leibh101|         Hank Leiber|       1|   9|  11|                NULL|NLS193807060|       72|\n",
      "|      play|                   3|                   1|leibh101|  ??|NULL|                 7/L|NLS193807060|       73|\n",
      "|      play|                   3|                   1|hacks101|  ??|NULL|                  43|NLS193807060|       74|\n",
      "|      play|                   3|                   1|hermb101|  ??|NULL|                   S|NLS193807060|       75|\n",
      "|      play|                   3|                   1|goodi101|  ??|NULL|                2/FL|NLS193807060|       76|\n",
      "|      play|                   4|                   0|gehrc101|  ??|NULL|                  NP|NLS193807060|       77|\n",
      "|       sub|            lee-b103|            Bill Lee|       1|   9|   1|                NULL|NLS193807060|       78|\n",
      "|      play|                   4|                   0|gehrc101|  ??|NULL|                   W|NLS193807060|       79|\n",
      "|      play|                   4|                   0|avere101|  ??|NULL|                 7/F|NLS193807060|       80|\n",
      "|      play|                   4|                   0|foxxj101|  ??|NULL|            64(1)/FO|NLS193807060|       81|\n",
      "|      play|                   4|                   0|dimaj101|  ??|NULL|                   K|NLS193807060|       82|\n",
      "|      play|                   4|                   1|medwj101|  ??|NULL|                  NP|NLS193807060|       83|\n",
      "|       sub|            allej102|        Johnny Allen|       0|   9|   1|                NULL|NLS193807060|       84|\n",
      "|      play|                   4|                   1|medwj101|  ??|NULL|                   3|NLS193807060|       85|\n",
      "|      play|                   4|                   1|ott-m101|  ??|NULL|                   T|NLS193807060|       86|\n",
      "|      play|                   4|                   1|lombe101|  ??|NULL|              S7.3-H|NLS193807060|       87|\n",
      "|      play|                   4|                   1|mccof101|  ??|NULL|              43.1-2|NLS193807060|       88|\n",
      "|      play|                   4|                   1|durol101|  ??|NULL|                   K|NLS193807060|       89|\n",
      "|      play|                   5|                   0|dickb101|  ??|NULL|                   D|NLS193807060|       90|\n",
      "|      play|                   5|                   0|cronj101|  ??|NULL|                 8/F|NLS193807060|       91|\n",
      "|      play|                   5|                   0|lewib103|  ??|NULL|                  NP|NLS193807060|       92|\n",
      "|       sub|            gehrl101|          Lou Gehrig|       0|   8|  11|                NULL|NLS193807060|       93|\n",
      "|      play|                   5|                   0|gehrl101|  ??|NULL|              43.2-3|NLS193807060|       94|\n",
      "|      play|                   5|                   0|allej102|  ??|NULL|                  53|NLS193807060|       95|\n",
      "|      play|                   5|                   1|lee-b103|  ??|NULL|                  NP|NLS193807060|       96|\n",
      "|       sub|            gehrl101|          Lou Gehrig|       0|   8|   3|                NULL|NLS193807060|       97|\n",
      "|      play|                   5|                   1|lee-b103|  ??|NULL|                  NP|NLS193807060|       98|\n",
      "|       sub|            foxxj101|         Jimmie Foxx|       0|   4|   5|                NULL|NLS193807060|       99|\n",
      "|      play|                   5|                   1|lee-b103|  ??|NULL|                 8/F|NLS193807060|      100|\n",
      "|      play|                   5|                   1|hacks101|  ??|NULL|                 8/F|NLS193807060|      101|\n",
      "|      play|                   5|                   1|hermb101|  ??|NULL|                   K|NLS193807060|      102|\n",
      "|      play|                   6|                   0|kreem101|  ??|NULL|                  NP|NLS193807060|      103|\n",
      "|       sub|            cramd102|          Doc Cramer|       0|   1|  11|                NULL|NLS193807060|      104|\n",
      "|      play|                   6|                   0|cramd102|  ??|NULL|                  43|NLS193807060|      105|\n",
      "|      play|                   6|                   0|gehrc101|  ??|NULL|                  63|NLS193807060|      106|\n",
      "|      play|                   6|                   0|avere101|  ??|NULL|                   K|NLS193807060|      107|\n",
      "|      play|                   6|                   1|goodi101|  ??|NULL|                  NP|NLS193807060|      108|\n",
      "|       sub|            cramd102|          Doc Cramer|       0|   1|   7|                NULL|NLS193807060|      109|\n",
      "|      play|                   6|                   1|goodi101|  ??|NULL|                  HP|NLS193807060|      110|\n",
      "|      play|                   6|                   1|medwj101|  ??|NULL|                89/F|NLS193807060|      111|\n",
      "|      play|                   6|                   1|ott-m101|  ??|NULL|     SB2.1-3(E2/TH2)|NLS193807060|      112|\n",
      "|      play|                   6|                   1|ott-m101|  ??|NULL|                   K|NLS193807060|      113|\n",
      "|      play|                   6|                   1|lombe101|  ??|NULL|                  63|NLS193807060|      114|\n",
      "|      play|                   7|                   0|foxxj101|  ??|NULL|                  NP|NLS193807060|      115|\n",
      "|       sub|            browm103|          Mace Brown|       1|   9|   1|                NULL|NLS193807060|      116|\n",
      "|      play|                   7|                   0|foxxj101|  ??|NULL|                   S|NLS193807060|      117|\n",
      "|      play|                   7|                   0|dimaj101|  ??|NULL|            4(1)/FO#|NLS193807060|      118|\n",
      "|      play|                   7|                   0|dickb101|  ??|NULL|                 5/P|NLS193807060|      119|\n",
      "|      play|                   7|                   0|cronj101|  ??|NULL|                 SB2|NLS193807060|      120|\n",
      "|      play|                   7|                   0|cronj101|  ??|NULL|                   W|NLS193807060|      121|\n",
      "|      play|                   7|                   0|gehrl101|  ??|NULL|           S.2-3;1-2|NLS193807060|      122|\n",
      "|      play|                   7|                   0|allej102|  ??|NULL|                  NP|NLS193807060|      123|\n",
      "|       sub|            yorkr101|           Rudy York|       0|   9|  11|                NULL|NLS193807060|      124|\n",
      "|      play|                   7|                   0|yorkr101|  ??|NULL|                   K|NLS193807060|      125|\n",
      "|      play|                   7|                   1|mccof101|  ??|NULL|                  NP|NLS193807060|      126|\n",
      "|       sub|            grovl101|         Lefty Grove|       0|   9|   1|                NULL|NLS193807060|      127|\n",
      "|      play|                   7|                   1|mccof101|  ??|NULL|                  S8|NLS193807060|      128|\n",
      "|      play|                   7|                   1|durol101|  ??|NULL|S5/BG.1-H(E5/TH1)...|NLS193807060|      129|\n",
      "|       com|$Charlie Gehringe...|                NULL|    NULL|NULL|NULL|                NULL|NLS193807060|      130|\n",
      "|       com|Jimmie Foxx's thr...|                NULL|    NULL|NULL|NULL|                NULL|NLS193807060|      131|\n",
      "|      play|                   7|                   1|browm103|  ??|NULL|                   K|NLS193807060|      132|\n",
      "|      play|                   7|                   1|hacks101|  ??|NULL|                   K|NLS193807060|      133|\n",
      "|      play|                   7|                   1|hermb101|  ??|NULL|                   K|NLS193807060|      134|\n",
      "|      play|                   8|                   0|cramd102|  ??|NULL|                  53|NLS193807060|      135|\n",
      "|      play|                   8|                   0|gehrc101|  ??|NULL|                  S9|NLS193807060|      136|\n",
      "|      play|                   8|                   0|avere101|  ??|NULL|                 9/F|NLS193807060|      137|\n",
      "|      play|                   8|                   0|foxxj101|  ??|NULL|                  13|NLS193807060|      138|\n",
      "|      play|                   8|                   1|goodi101|  ??|NULL|                 9/L|NLS193807060|      139|\n",
      "|      play|                   8|                   1|medwj101|  ??|NULL|                  S7|NLS193807060|      140|\n",
      "|      play|                   8|                   1|ott-m101|  ??|NULL|                 8/F|NLS193807060|      141|\n",
      "|      play|                   8|                   1|lombe101|  ??|NULL|            S/89.1-3|NLS193807060|      142|\n",
      "|      play|                   8|                   1|mccof101|  ??|NULL|            54(1)/FO|NLS193807060|      143|\n",
      "|      play|                   9|                   0|dimaj101|  ??|NULL|                S7/L|NLS193807060|      144|\n",
      "|      play|                   9|                   0|dickb101|  ??|NULL|             7/F78XD|NLS193807060|      145|\n",
      "|      play|                   9|                   0|cronj101|  ??|NULL|            D7/L.1-H|NLS193807060|      146|\n",
      "|      play|                   9|                   0|gehrl101|  ??|NULL|           9/L9D.2-3|NLS193807060|      147|\n",
      "|      play|                   9|                   0|grovl101|  ??|NULL|                  NP|NLS193807060|      148|\n",
      "|       sub|            johnb102|         Bob Johnson|       0|   9|  11|                NULL|NLS193807060|      149|\n",
      "|      play|                   9|                   0|johnb102|  ??|NULL|                   K|NLS193807060|      150|\n",
      "|      data|                  er|            gomel102|       0|NULL|NULL|                NULL|NLS193807060|      151|\n",
      "|      data|                  er|            allej102|       1|NULL|NULL|                NULL|NLS193807060|      152|\n",
      "|      data|                  er|            grovl101|       0|NULL|NULL|                NULL|NLS193807060|      153|\n",
      "|      data|                  er|            vandj101|       0|NULL|NULL|                NULL|NLS193807060|      154|\n",
      "|      data|                  er|            lee-b103|       0|NULL|NULL|                NULL|NLS193807060|      155|\n",
      "|      data|                  er|            browm103|       1|NULL|NULL|                NULL|NLS193807060|      156|\n",
      "|        id|        ASW193808210|                NULL|    NULL|NULL|NULL|                NULL|ASW193808210|      157|\n",
      "|   version|                   1|                NULL|    NULL|NULL|NULL|                NULL|ASW193808210|      158|\n",
      "|      info|       inputprogvers|version 7RS(19) o...|    NULL|NULL|NULL|                NULL|ASW193808210|      159|\n",
      "|      info|             visteam|                 ASE|    NULL|NULL|NULL|                NULL|ASW193808210|      160|\n",
      "|      info|            hometeam|                 ASW|    NULL|NULL|NULL|                NULL|ASW193808210|      161|\n",
      "|      info|                site|               CHI10|    NULL|NULL|NULL|                NULL|ASW193808210|      162|\n",
      "|      info|                date|          1938/08/21|    NULL|NULL|NULL|                NULL|ASW193808210|      163|\n",
      "|      info|              number|                   0|    NULL|NULL|NULL|                NULL|ASW193808210|      164|\n",
      "|      info|           starttime|              0:00PM|    NULL|NULL|NULL|                NULL|ASW193808210|      165|\n",
      "|      info|            daynight|                 day|    NULL|NULL|NULL|                NULL|ASW193808210|      166|\n",
      "|      info|               usedh|               false|    NULL|NULL|NULL|                NULL|ASW193808210|      167|\n",
      "|      info|              scorer|    Chicago Defender|    NULL|NULL|NULL|                NULL|ASW193808210|      168|\n",
      "|      info|          translator|          Tom Thress|    NULL|NULL|NULL|                NULL|ASW193808210|      169|\n",
      "|      info|            inputter|          Tom Thress|    NULL|NULL|NULL|                NULL|ASW193808210|      170|\n",
      "|      info|           inputtime|  2020/09/03 12:03AM|    NULL|NULL|NULL|                NULL|ASW193808210|      171|\n",
      "|      info|           howscored|                park|    NULL|NULL|NULL|                NULL|ASW193808210|      172|\n",
      "|      info|             pitches|                none|    NULL|NULL|NULL|                NULL|ASW193808210|      173|\n",
      "|      info|                temp|                   0|    NULL|NULL|NULL|                NULL|ASW193808210|      174|\n",
      "|      info|             winddir|             unknown|    NULL|NULL|NULL|                NULL|ASW193808210|      175|\n",
      "|      info|           windspeed|                  -1|    NULL|NULL|NULL|                NULL|ASW193808210|      176|\n",
      "|      info|           fieldcond|             unknown|    NULL|NULL|NULL|                NULL|ASW193808210|      177|\n",
      "|      info|              precip|             unknown|    NULL|NULL|NULL|                NULL|ASW193808210|      178|\n",
      "|      info|                 sky|             unknown|    NULL|NULL|NULL|                NULL|ASW193808210|      179|\n",
      "|      info|          timeofgame|                   0|    NULL|NULL|NULL|                NULL|ASW193808210|      180|\n",
      "|      info|          attendance|               30000|    NULL|NULL|NULL|                NULL|ASW193808210|      181|\n",
      "|      info|                  wp|            smith111|    NULL|NULL|NULL|                NULL|ASW193808210|      182|\n",
      "|      info|                  lp|            walke103|    NULL|NULL|NULL|                NULL|ASW193808210|      183|\n",
      "|      info|                save|                NULL|    NULL|NULL|NULL|                NULL|ASW193808210|      184|\n",
      "|      info|               gwrbi|                NULL|    NULL|NULL|NULL|                NULL|ASW193808210|      185|\n",
      "|     start|            harrv102|          Vic Harris|       0|   1|   7|                NULL|ASW193808210|      186|\n",
      "|     start|            hughs101|        Sammy Hughes|       0|   2|   4|                NULL|ASW193808210|      187|\n",
      "|     start|            wellw101|        Willie Wells|       0|   3|   6|                NULL|ASW193808210|      188|\n",
      "|     start|            leonb101|        Buck Leonard|       0|   4|   3|                NULL|ASW193808210|      189|\n",
      "|     start|            cannw101|      Walter Cannady|       0|   5|   5|                NULL|ASW193808210|      190|\n",
      "|     start|            banks101|        Sam Bankhead|       0|   6|   8|                NULL|ASW193808210|      191|\n",
      "|     start|            wrigb104|    Wild Bill Wright|       0|   7|   9|                NULL|ASW193808210|      192|\n",
      "|     start|            mackb102|          Biz Mackey|       0|   8|   2|                NULL|ASW193808210|      193|\n",
      "|     start|            walke103|       Edsall Walker|       0|   9|   1|                NULL|ASW193808210|      194|\n",
      "|     start|            milth101|        Henry Milton|       1|   1|   9|                NULL|ASW193808210|      195|\n",
      "|     start|            allen102|          Newt Allen|       1|   2|   4|                NULL|ASW193808210|      196|\n",
      "|     start|            radca101|       Alex Radcliff|       1|   3|   5|                NULL|ASW193808210|      197|\n",
      "|     start|            strot101|          Ted Strong|       1|   4|   3|                NULL|ASW193808210|      198|\n",
      "|     start|            trouq101|      Quincy Trouppe|       1|   5|   7|                NULL|ASW193808210|      199|\n",
      "|     start|            robin101|       Neil Robinson|       1|   6|   8|                NULL|ASW193808210|      200|\n",
      "|     start|            duncf102|        Frank Duncan|       1|   7|   2|                NULL|ASW193808210|      201|\n",
      "|     start|            johnm103|         Mex Johnson|       1|   8|   6|                NULL|ASW193808210|      202|\n",
      "|     start|            cornw101|    Willie Cornelius|       1|   9|   1|                NULL|ASW193808210|      203|\n",
      "|      play|                   1|                   0|harrv102|  ??|NULL|                  D7|ASW193808210|      204|\n",
      "|      play|                   1|                   0|hughs101|  ??|NULL|              S7.2-H|ASW193808210|      205|\n",
      "|      play|                   1|                   0|wellw101|  ??|NULL|            PO1(243)|ASW193808210|      206|\n",
      "|      play|                   1|                   0|wellw101|  ??|NULL|                  T9|ASW193808210|      207|\n",
      "|      play|                   1|                   0|leonb101|  ??|NULL|                   3|ASW193808210|      208|\n",
      "|      play|                   1|                   0|cannw101|  ??|NULL|              D7.3-H|ASW193808210|      209|\n",
      "|      play|                   1|                   0|banks101|  ??|NULL|              S9.2-H|ASW193808210|      210|\n",
      "|      play|                   1|                   0|wrigb104|  ??|NULL|                  43|ASW193808210|      211|\n",
      "|      play|                   1|                   1|milth101|  ??|NULL|                  HP|ASW193808210|      212|\n",
      "|      play|                   1|                   1|allen102|  ??|NULL|               K+SB2|ASW193808210|      213|\n",
      "|      play|                   1|                   1|radca101|  ??|NULL|              S9.2-H|ASW193808210|      214|\n",
      "|      play|                   1|                   1|strot101|  ??|NULL|              63.1-2|ASW193808210|      215|\n",
      "|      play|                   1|                   1|trouq101|  ??|NULL|                  53|ASW193808210|      216|\n",
      "|      play|                   2|                   0|mackb102|  ??|NULL|                  NP|ASW193808210|      217|\n",
      "|       sub|            smith111|        Hilton Smith|       1|   9|   1|                NULL|ASW193808210|      218|\n",
      "|      play|                   2|                   0|mackb102|  ??|NULL|                 K/C|ASW193808210|      219|\n",
      "|      play|                   2|                   0|walke103|  ??|NULL|                   W|ASW193808210|      220|\n",
      "|      play|                   2|                   0|harrv102|  ??|NULL|      FC4.1-3(E4/TH)|ASW193808210|      221|\n",
      "|      play|                   2|                   0|hughs101|  ??|NULL|              53.1-2|ASW193808210|      222|\n",
      "|      play|                   2|                   0|wellw101|  ??|NULL|                 K/C|ASW193808210|      223|\n",
      "|      play|                   2|                   1|robin101|  ??|NULL|                  S8|ASW193808210|      224|\n",
      "|      play|                   2|                   1|duncf102|  ??|NULL|                   K|ASW193808210|      225|\n",
      "|      play|                   2|                   1|johnm103|  ??|NULL|                   K|ASW193808210|      226|\n",
      "|      play|                   2|                   1|smith111|  ??|NULL|                 3/G|ASW193808210|      227|\n",
      "|      play|                   3|                   0|leonb101|  ??|NULL|                   4|ASW193808210|      228|\n",
      "|      play|                   3|                   0|cannw101|  ??|NULL|                  63|ASW193808210|      229|\n",
      "|      play|                   3|                   0|banks101|  ??|NULL|                  S6|ASW193808210|      230|\n",
      "|      play|                   3|                   0|wrigb104|  ??|NULL|                6/FL|ASW193808210|      231|\n",
      "|      play|                   3|                   1|milth101|  ??|NULL|                   W|ASW193808210|      232|\n",
      "|      play|                   3|                   1|allen102|  ??|NULL|                 SB2|ASW193808210|      233|\n",
      "|      play|                   3|                   1|allen102|  ??|NULL|                   7|ASW193808210|      234|\n",
      "|      play|                   3|                   1|radca101|  ??|NULL|              S8.2-H|ASW193808210|      235|\n",
      "|      play|                   3|                   1|strot101|  ??|NULL|               W.1-2|ASW193808210|      236|\n",
      "|      play|                   3|                   1|trouq101|  ??|NULL|          PB.2-3;1-2|ASW193808210|      237|\n",
      "|      play|                   3|                   1|trouq101|  ??|NULL|                  53|ASW193808210|      238|\n",
      "|      play|                   3|                   1|robin101|  ??|NULL|    HR8/IPHR.3-H;2-H|ASW193808210|      239|\n",
      "|      play|                   3|                   1|duncf102|  ??|NULL|                   W|ASW193808210|      240|\n",
      "|      play|                   3|                   1|johnm103|  ??|NULL|                 8/L|ASW193808210|      241|\n",
      "|      play|                   4|                   0|mackb102|  ??|NULL|                  43|ASW193808210|      242|\n",
      "|      play|                   4|                   0|walke103|  ??|NULL|                  NP|ASW193808210|      243|\n",
      "|       sub|            browb107|        Barney Brown|       0|   9|  11|                NULL|ASW193808210|      244|\n",
      "|      play|                   4|                   0|browb107|  ??|NULL|                   7|ASW193808210|      245|\n",
      "|      play|                   4|                   0|harrv102|  ??|NULL|                  63|ASW193808210|      246|\n",
      "|      play|                   4|                   1|smith111|  ??|NULL|                  NP|ASW193808210|      247|\n",
      "|       sub|            browb107|        Barney Brown|       0|   9|   1|                NULL|ASW193808210|      248|\n",
      "|      play|                   4|                   1|smith111|  ??|NULL|                  S8|ASW193808210|      249|\n",
      "|      play|                   4|                   1|milth101|  ??|NULL|                   6|ASW193808210|      250|\n",
      "|      play|                   4|                   1|allen102|  ??|NULL|                   4|ASW193808210|      251|\n",
      "|      play|                   4|                   1|radca101|  ??|NULL|                 8/L|ASW193808210|      252|\n",
      "|      play|                   5|                   0|hughs101|  ??|NULL|                  D7|ASW193808210|      253|\n",
      "|      play|                   5|                   0|wellw101|  ??|NULL|            S/BG.2-3|ASW193808210|      254|\n",
      "|      play|                   5|                   0|leonb101|  ??|NULL|         8/F.3-H;1-2|ASW193808210|      255|\n",
      "|      play|                   5|                   0|cannw101|  ??|NULL|        K+CS3(25)/DP|ASW193808210|      256|\n",
      "|      play|                   5|                   1|strot101|  ??|NULL|                  K#|ASW193808210|      257|\n",
      "|      play|                   5|                   1|trouq101|  ??|NULL|                 13#|ASW193808210|      258|\n",
      "|      play|                   5|                   1|robin101|  ??|NULL|                  6#|ASW193808210|      259|\n",
      "|      play|                   6|                   0|banks101|  ??|NULL|                  NP|ASW193808210|      260|\n",
      "|       sub|            radct101|       Ted Radcliffe|       1|   9|   1|                NULL|ASW193808210|      261|\n",
      "|      play|                   6|                   0|banks101|  ??|NULL|                   7|ASW193808210|      262|\n",
      "|      play|                   6|                   0|wrigb104|  ??|NULL|                  63|ASW193808210|      263|\n",
      "|      play|                   6|                   0|mackb102|  ??|NULL|                 4/L|ASW193808210|      264|\n",
      "|      play|                   6|                   1|duncf102|  ??|NULL|                  NP|ASW193808210|      265|\n",
      "|       sub|            woodp104|       Parnell Woods|       1|   7|  11|                NULL|ASW193808210|      266|\n",
      "|      play|                   6|                   1|woodp104|  ??|NULL|                  43|ASW193808210|      267|\n",
      "|      play|                   6|                   1|johnm103|  ??|NULL|                 6/L|ASW193808210|      268|\n",
      "|      play|                   6|                   1|radct101|  ??|NULL|                  53|ASW193808210|      269|\n",
      "|      play|                   7|                   0|browb107|  ??|NULL|                  NP|ASW193808210|      270|\n",
      "|       sub|            browl107|         Larry Brown|       1|   7|   2|                NULL|ASW193808210|      271|\n",
      "|      play|                   7|                   0|browb107|  ??|NULL|                  S9|ASW193808210|      272|\n",
      "|      play|                   7|                   0|harrv102|  ??|NULL|              43.1-2|ASW193808210|      273|\n",
      "|      play|                   7|                   0|hughs101|  ??|NULL|                  53|ASW193808210|      274|\n",
      "|      play|                   7|                   0|wellw101|  ??|NULL|                   4|ASW193808210|      275|\n",
      "|      play|                   7|                   1|milth101|  ??|NULL|                  NP|ASW193808210|      276|\n",
      "|       sub|            taylj108|       Johnny Taylor|       0|   9|   1|                NULL|ASW193808210|      277|\n",
      "|      play|                   7|                   1|milth101|  ??|NULL|                  S7|ASW193808210|      278|\n",
      "|      play|                   7|                   1|allen102|  ??|NULL|            16(1)/FO|ASW193808210|      279|\n",
      "|      play|                   7|                   1|radca101|  ??|NULL|                   K|ASW193808210|      280|\n",
      "|      play|                   7|                   1|strot101|  ??|NULL|                   3|ASW193808210|      281|\n",
      "|      play|                   8|                   0|leonb101|  ??|NULL|                  S9|ASW193808210|      282|\n",
      "|      play|                   8|                   0|cannw101|  ??|NULL|           13/SH.1-2|ASW193808210|      283|\n",
      "|      play|                   8|                   0|banks101|  ??|NULL|                5/FL|ASW193808210|      284|\n",
      "|      play|                   8|                   0|wrigb104|  ??|NULL|                4/FL|ASW193808210|      285|\n",
      "|      play|                   8|                   1|trouq101|  ??|NULL|                   K|ASW193808210|      286|\n",
      "|      play|                   8|                   1|robin101|  ??|NULL|                  43|ASW193808210|      287|\n",
      "|      play|                   8|                   1|browl107|  ??|NULL|                   W|ASW193808210|      288|\n",
      "|      play|                   8|                   1|johnm103|  ??|NULL|              S9.1-2|ASW193808210|      289|\n",
      "|      play|                   8|                   1|radct101|  ??|NULL|          S6.2-3;1-2|ASW193808210|      290|\n",
      "|      play|                   8|                   1|milth101|  ??|NULL|                  23|ASW193808210|      291|\n",
      "|      play|                   9|                   0|mackb102|  ??|NULL|                 4/L|ASW193808210|      292|\n",
      "|      play|                   9|                   0|taylj108|  ??|NULL|                  NP|ASW193808210|      293|\n",
      "|       sub|            dunnj104|           Jake Dunn|       0|   9|  11|                NULL|ASW193808210|      294|\n",
      "|      play|                   9|                   0|dunnj104|  ??|NULL|                  S8|ASW193808210|      295|\n",
      "|      play|                   9|                   0|harrv102|  ??|NULL|            46(1)/FO|ASW193808210|      296|\n",
      "|      play|                   9|                   0|hughs101|  ??|NULL|                 SB2|ASW193808210|      297|\n",
      "|      play|                   9|                   0|hughs101|  ??|NULL|                 8/L|ASW193808210|      298|\n",
      "|      data|                  er|            walke103|       5|NULL|NULL|                NULL|ASW193808210|      299|\n",
      "|      data|                  er|            browb107|       0|NULL|NULL|                NULL|ASW193808210|      300|\n",
      "|      data|                  er|            taylj108|       0|NULL|NULL|                NULL|ASW193808210|      301|\n",
      "|      data|                  er|            cornw101|       3|NULL|NULL|                NULL|ASW193808210|      302|\n",
      "|      data|                  er|            smith111|       1|NULL|NULL|                NULL|ASW193808210|      303|\n",
      "|      data|                  er|            radct101|       0|NULL|NULL|                NULL|ASW193808210|      304|\n",
      "|        id|        NNL193809240|                NULL|    NULL|NULL|NULL|                NULL|NNL193809240|      305|\n",
      "|   version|                   1|                NULL|    NULL|NULL|NULL|                NULL|NNL193809240|      306|\n",
      "|      info|       inputprogvers|version 7RS(19) o...|    NULL|NULL|NULL|                NULL|NNL193809240|      307|\n",
      "|      info|             visteam|                 NAL|    NULL|NULL|NULL|                NULL|NNL193809240|      308|\n",
      "|      info|            hometeam|                 NNL|    NULL|NULL|NULL|                NULL|NNL193809240|      309|\n",
      "|      info|                site|               PHI17|    NULL|NULL|NULL|                NULL|NNL193809240|      310|\n",
      "|      info|                date|          1938/09/24|    NULL|NULL|NULL|                NULL|NNL193809240|      311|\n",
      "|      info|              number|                   0|    NULL|NULL|NULL|                NULL|NNL193809240|      312|\n",
      "|      info|           starttime|              0:00PM|    NULL|NULL|NULL|                NULL|NNL193809240|      313|\n",
      "|      info|            daynight|                 day|    NULL|NULL|NULL|                NULL|NNL193809240|      314|\n",
      "|      info|               usedh|               false|    NULL|NULL|NULL|                NULL|NNL193809240|      315|\n",
      "|      info|            gametype|             allstar|    NULL|NULL|NULL|                NULL|NNL193809240|      316|\n",
      "|      info|          translator|          Tom Thress|    NULL|NULL|NULL|                NULL|NNL193809240|      317|\n",
      "|      info|            inputter|          Tom Thress|    NULL|NULL|NULL|                NULL|NNL193809240|      318|\n",
      "|      info|           inputtime|  2021/03/26 12:12AM|    NULL|NULL|NULL|                NULL|NNL193809240|      319|\n",
      "|      info|           howscored|             unknown|    NULL|NULL|NULL|                NULL|NNL193809240|      320|\n",
      "|      info|             pitches|                none|    NULL|NULL|NULL|                NULL|NNL193809240|      321|\n",
      "|      info|                temp|                   0|    NULL|NULL|NULL|                NULL|NNL193809240|      322|\n",
      "|      info|             winddir|             unknown|    NULL|NULL|NULL|                NULL|NNL193809240|      323|\n",
      "|      info|           windspeed|                  -1|    NULL|NULL|NULL|                NULL|NNL193809240|      324|\n",
      "|      info|           fieldcond|             unknown|    NULL|NULL|NULL|                NULL|NNL193809240|      325|\n",
      "|      info|              precip|             unknown|    NULL|NULL|NULL|                NULL|NNL193809240|      326|\n",
      "|      info|                 sky|             unknown|    NULL|NULL|NULL|                NULL|NNL193809240|      327|\n",
      "|      info|          timeofgame|                   0|    NULL|NULL|NULL|                NULL|NNL193809240|      328|\n",
      "|      info|          attendance|                   0|    NULL|NULL|NULL|                NULL|NNL193809240|      329|\n",
      "|      info|                  wp|            mcdut101|    NULL|NULL|NULL|                NULL|NNL193809240|      330|\n",
      "|      info|                  lp|            barnv103|    NULL|NULL|NULL|                NULL|NNL193809240|      331|\n",
      "|      info|                save|                NULL|    NULL|NULL|NULL|                NULL|NNL193809240|      332|\n",
      "|      info|               gwrbi|                NULL|    NULL|NULL|NULL|                NULL|NNL193809240|      333|\n",
      "|     start|            jonej110|        Julius Jones|       0|   1|   9|                NULL|NNL193809240|      334|\n",
      "|     start|            owens102|     Sylvester Owens|       0|   2|   8|                NULL|NNL193809240|      335|\n",
      "|     start|            robin101|       Neil Robinson|       0|   3|   6|                NULL|NNL193809240|      336|\n",
      "|     start|            johnb111|        Bert Johnson|       0|   4|   7|                NULL|NNL193809240|      337|\n",
      "|     start|            taylj106|        Jelly Taylor|       0|   5|   3|                NULL|NNL193809240|      338|\n",
      "|     start|            smitr113|         R. S. Smith|       0|   6|   5|                NULL|NNL193809240|      339|\n",
      "|     start|            fordj101|          Jimmy Ford|       0|   7|   4|                NULL|NNL193809240|      340|\n",
      "|     start|            browl107|         Larry Brown|       0|   8|   2|                NULL|NNL193809240|      341|\n",
      "|     start|            barnv103|          Vet Barnes|       0|   9|   1|                NULL|NNL193809240|      342|\n",
      "|     start|            wrigb104|    Wild Bill Wright|       1|   1|   7|                NULL|NNL193809240|      343|\n",
      "|     start|            hughs101|        Sammy Hughes|       1|   2|   4|                NULL|NNL193809240|      344|\n",
      "|     start|            leonb101|        Buck Leonard|       1|   3|   3|                NULL|NNL193809240|      345|\n",
      "|     start|            gibsj101|         Josh Gibson|       1|   4|   2|                NULL|NNL193809240|      346|\n",
      "|     start|            banks101|        Sam Bankhead|       1|   5|   8|                NULL|NNL193809240|      347|\n",
      "|     start|            wellw101|        Willie Wells|       1|   6|   6|                NULL|NNL193809240|      348|\n",
      "|     start|            dandr101|       Ray Dandridge|       1|   7|   5|                NULL|NNL193809240|      349|\n",
      "|     start|            dunnj104|           Jake Dunn|       1|   8|   9|                NULL|NNL193809240|      350|\n",
      "|     start|            mcdut101|     Terris McDuffie|       1|   9|   1|                NULL|NNL193809240|      351|\n",
      "|       com|$Play-by-play ded...|                NULL|    NULL|NULL|NULL|                NULL|NNL193809240|      352|\n",
      "|      play|                   1|                   0|jonej110|  ??|NULL|                   S|NNL193809240|      353|\n",
      "|      play|                   1|                   0|owens102|  ??|NULL|                  99|NNL193809240|      354|\n",
      "|      play|                   1|                   0|robin101|  ??|NULL|                  99|NNL193809240|      355|\n",
      "|      play|                   1|                   0|johnb111|  ??|NULL|                  99|NNL193809240|      356|\n",
      "|      play|                   1|                   1|wrigb104|  ??|NULL|                 E3#|NNL193809240|      357|\n",
      "|      play|                   1|                   1|hughs101|  ??|NULL|                  99|NNL193809240|      358|\n",
      "|      play|                   1|                   1|leonb101|  ??|NULL|              W.1-2#|NNL193809240|      359|\n",
      "|      play|                   1|                   1|gibsj101|  ??|NULL|                  99|NNL193809240|      360|\n",
      "|      play|                   1|                   1|banks101|  ??|NULL|                  99|NNL193809240|      361|\n",
      "|      play|                   2|                   0|taylj106|  ??|NULL|                  99|NNL193809240|      362|\n",
      "|      play|                   2|                   0|smitr113|  ??|NULL|                   S|NNL193809240|      363|\n",
      "|      play|                   2|                   0|fordj101|  ??|NULL|                  99|NNL193809240|      364|\n",
      "|      play|                   2|                   0|browl107|  ??|NULL|                  99|NNL193809240|      365|\n",
      "|      play|                   2|                   1|wellw101|  ??|NULL|                  W#|NNL193809240|      366|\n",
      "|      play|                   2|                   1|dandr101|  ??|NULL|                  99|NNL193809240|      367|\n",
      "|      play|                   2|                   1|dunnj104|  ??|NULL|              S.1-2#|NNL193809240|      368|\n",
      "|      play|                   2|                   1|mcdut101|  ??|NULL|                  99|NNL193809240|      369|\n",
      "|      play|                   2|                   1|wrigb104|  ??|NULL|                  99|NNL193809240|      370|\n",
      "|      play|                   3|                   0|barnv103|  ??|NULL|                  99|NNL193809240|      371|\n",
      "|      play|                   3|                   0|jonej110|  ??|NULL|                  99|NNL193809240|      372|\n",
      "|      play|                   3|                   0|owens102|  ??|NULL|                  99|NNL193809240|      373|\n",
      "|      play|                   3|                   1|hughs101|  ??|NULL|                   W|NNL193809240|      374|\n",
      "|      play|                   3|                   1|leonb101|  ??|NULL|              99.1-2|NNL193809240|      375|\n",
      "|      play|                   3|                   1|gibsj101|  ??|NULL|              S9.2-H|NNL193809240|      376|\n",
      "|      play|                   3|                   1|banks101|  ??|NULL|              S.1-2#|NNL193809240|      377|\n",
      "|      play|                   3|                   1|wellw101|  ??|NULL|                  99|NNL193809240|      378|\n",
      "|      play|                   3|                   1|dandr101|  ??|NULL|                  99|NNL193809240|      379|\n",
      "|      play|                   4|                   0|robin101|  ??|NULL|                  W#|NNL193809240|      380|\n",
      "|      play|                   4|                   0|johnb111|  ??|NULL|              99.1-2|NNL193809240|      381|\n",
      "|      play|                   4|                   0|taylj106|  ??|NULL|               S.2-H|NNL193809240|      382|\n",
      "|      play|                   4|                   0|smitr113|  ??|NULL|              S.1-2#|NNL193809240|      383|\n",
      "|      play|                   4|                   0|fordj101|  ??|NULL|          S.2-H;1-2#|NNL193809240|      384|\n",
      "|      play|                   4|                   0|browl107|  ??|NULL|                  99|NNL193809240|      385|\n",
      "|      play|                   4|                   0|barnv103|  ??|NULL|                  99|NNL193809240|      386|\n",
      "|      play|                   4|                   1|dunnj104|  ??|NULL|                   S|NNL193809240|      387|\n",
      "|      play|                   4|                   1|mcdut101|  ??|NULL|                  99|NNL193809240|      388|\n",
      "|      play|                   4|                   1|wrigb104|  ??|NULL|       D.1-H;B-3(TH)|NNL193809240|      389|\n",
      "|      play|                   4|                   1|hughs101|  ??|NULL|            99/F.3-H|NNL193809240|      390|\n",
      "|      play|                   4|                   1|leonb101|  ??|NULL|                  99|NNL193809240|      391|\n",
      "|      play|                   5|                   0|jonej110|  ??|NULL|                  99|NNL193809240|      392|\n",
      "|      play|                   5|                   0|owens102|  ??|NULL|                  99|NNL193809240|      393|\n",
      "|      play|                   5|                   0|robin101|  ??|NULL|                  99|NNL193809240|      394|\n",
      "|      play|                   5|                   1|gibsj101|  ??|NULL|                   D|NNL193809240|      395|\n",
      "|      play|                   5|                   1|banks101|  ??|NULL|                  99|NNL193809240|      396|\n",
      "|      play|                   5|                   1|wellw101|  ??|NULL|               T.2-H|NNL193809240|      397|\n",
      "|      play|                   5|                   1|dandr101|  ??|NULL|               T.3-H|NNL193809240|      398|\n",
      "|      play|                   5|                   1|dunnj104|  ??|NULL|               D.3-H|NNL193809240|      399|\n",
      "|      play|                   5|                   1|mcdut101|  ??|NULL|                   W|NNL193809240|      400|\n",
      "|      play|                   5|                   1|wrigb104|  ??|NULL|D.2-H;1-H;B-H(E5)...|NNL193809240|      401|\n",
      "|      play|                   5|                   1|hughs101|  ??|NULL|                  HP|NNL193809240|      402|\n",
      "|      play|                   5|                   1|leonb101|  ??|NULL|               W.1-2|NNL193809240|      403|\n",
      "|      play|                   5|                   1|gibsj101|  ??|NULL|                  NP|NNL193809240|      404|\n",
      "|       sub|            haysc101|     Claude Hayslett|       0|   9|   1|                NULL|NNL193809240|      405|\n",
      "|      play|                   5|                   1|gibsj101|  ??|NULL|                  NP|NNL193809240|      406|\n",
      "|       sub|            bassp101|      Pepper Bassett|       1|   4|  11|                NULL|NNL193809240|      407|\n",
      "|      play|                   5|                   1|bassp101|  ??|NULL|                99/F|NNL193809240|      408|\n",
      "|      play|                   5|                   1|banks101|  ??|NULL|  E4.2-H(NR)(UR);1-2|NNL193809240|      409|\n",
      "|      play|                   5|                   1|wellw101|  ??|NULL|                99/G|NNL193809240|      410|\n",
      "|      play|                   6|                   0|johnb111|  ??|NULL|                  NP|NNL193809240|      411|\n",
      "|       sub|            bassp101|      Pepper Bassett|       1|   4|   2|                NULL|NNL193809240|      412|\n",
      "|      play|                   6|                   0|johnb111|  ??|NULL|                   S|NNL193809240|      413|\n",
      "|      play|                   6|                   0|taylj106|  ??|NULL|                  99|NNL193809240|      414|\n",
      "|      play|                   6|                   0|smitr113|  ??|NULL|              S.1-2#|NNL193809240|      415|\n",
      "|      play|                   6|                   0|fordj101|  ??|NULL|                  99|NNL193809240|      416|\n",
      "|      play|                   6|                   0|browl107|  ??|NULL|                  NP|NNL193809240|      417|\n",
      "|       sub|            barnh103|        Harry Barnes|       0|   8|  11|                NULL|NNL193809240|      418|\n",
      "|      play|                   6|                   0|barnh103|  ??|NULL|                  99|NNL193809240|      419|\n",
      "|      play|                   6|                   1|dandr101|  ??|NULL|                  NP|NNL193809240|      420|\n",
      "|       sub|            barnh103|        Harry Barnes|       0|   8|   2|                NULL|NNL193809240|      421|\n",
      "|      play|                   6|                   1|dandr101|  ??|NULL|                  99|NNL193809240|      422|\n",
      "|      play|                   6|                   1|dunnj104|  ??|NULL|                  99|NNL193809240|      423|\n",
      "|      play|                   6|                   1|mcdut101|  ??|NULL|                  99|NNL193809240|      424|\n",
      "|      play|                   7|                   0|haysc101|  ??|NULL|                  99|NNL193809240|      425|\n",
      "|      play|                   7|                   0|jonej110|  ??|NULL|                  W#|NNL193809240|      426|\n",
      "|      play|                   7|                   0|owens102|  ??|NULL|                  99|NNL193809240|      427|\n",
      "|      play|                   7|                   0|robin101|  ??|NULL|                  99|NNL193809240|      428|\n",
      "|      play|                   7|                   1|wrigb104|  ??|NULL|                   S|NNL193809240|      429|\n",
      "|      play|                   7|                   1|hughs101|  ??|NULL|               D.1-3|NNL193809240|      430|\n",
      "|      play|                   7|                   1|leonb101|  ??|NULL|                99/G|NNL193809240|      431|\n",
      "|      play|                   7|                   1|bassp101|  ??|NULL|            99/G.3-H|NNL193809240|      432|\n",
      "|      play|                   7|                   1|banks101|  ??|NULL|                   W|NNL193809240|      433|\n",
      "|      play|                   7|                   1|wellw101|  ??|NULL|          S.2-H;1-2#|NNL193809240|      434|\n",
      "|      play|                   7|                   1|dandr101|  ??|NULL|                  99|NNL193809240|      435|\n",
      "|      play|                   8|                   0|johnb111|  ??|NULL|                  99|NNL193809240|      436|\n",
      "|      play|                   8|                   0|taylj106|  ??|NULL|                  99|NNL193809240|      437|\n",
      "|      play|                   8|                   0|smitr113|  ??|NULL|                  99|NNL193809240|      438|\n",
      "|      play|                   8|                   1|dunnj104|  ??|NULL|                  E9|NNL193809240|      439|\n",
      "|      play|                   8|                   1|mcdut101|  ??|NULL|                99/F|NNL193809240|      440|\n",
      "|      play|                   8|                   1|wrigb104|  ??|NULL|E1/TH.1-H(NR)(UR)...|NNL193809240|      441|\n",
      "|      play|                   8|                   1|hughs101|  ??|NULL|   S.2-H(UR);BX2(99)|NNL193809240|      442|\n",
      "|      play|                   8|                   1|leonb101|  ??|NULL|                99/F|NNL193809240|      443|\n",
      "|      play|                   9|                   0|fordj101|  ??|NULL|                  HR|NNL193809240|      444|\n",
      "|      play|                   9|                   0|barnh103|  ??|NULL|                  99|NNL193809240|      445|\n",
      "|      play|                   9|                   0|haysc101|  ??|NULL|                  NP|NNL193809240|      446|\n",
      "|       sub|            maysd101|           Dave Mays|       0|   9|  11|                NULL|NNL193809240|      447|\n",
      "|      play|                   9|                   0|maysd101|  ??|NULL|                  99|NNL193809240|      448|\n",
      "|      play|                   9|                   0|jonej110|  ??|NULL|                  99|NNL193809240|      449|\n",
      "|      data|                  er|            barnv103|       9|NULL|NULL|                NULL|NNL193809240|      450|\n",
      "|      data|                  er|            haysc101|       2|NULL|NULL|                NULL|NNL193809240|      451|\n",
      "|      data|                  er|            mcdut101|       3|NULL|NULL|                NULL|NNL193809240|      452|\n",
      "|        id|        NNL193809250|                NULL|    NULL|NULL|NULL|                NULL|NNL193809250|      453|\n",
      "|   version|                   1|                NULL|    NULL|NULL|NULL|                NULL|NNL193809250|      454|\n",
      "|      info|       inputprogvers|version 7RS(19) o...|    NULL|NULL|NULL|                NULL|NNL193809250|      455|\n",
      "|      info|             visteam|                 NAL|    NULL|NULL|NULL|                NULL|NNL193809250|      456|\n",
      "|      info|            hometeam|                 NNL|    NULL|NULL|NULL|                NULL|NNL193809250|      457|\n",
      "|      info|                site|               NYC14|    NULL|NULL|NULL|                NULL|NNL193809250|      458|\n",
      "|      info|                date|          1938/09/25|    NULL|NULL|NULL|                NULL|NNL193809250|      459|\n",
      "|      info|              number|                   0|    NULL|NULL|NULL|                NULL|NNL193809250|      460|\n",
      "|      info|           starttime|              0:00PM|    NULL|NULL|NULL|                NULL|NNL193809250|      461|\n",
      "|      info|            daynight|                 day|    NULL|NULL|NULL|                NULL|NNL193809250|      462|\n",
      "|      info|               usedh|               false|    NULL|NULL|NULL|                NULL|NNL193809250|      463|\n",
      "|      info|            gametype|             allstar|    NULL|NULL|NULL|                NULL|NNL193809250|      464|\n",
      "|      info|             umphome|            mccrf901|    NULL|NULL|NULL|                NULL|NNL193809250|      465|\n",
      "|      info|               ump1b|            turnu901|    NULL|NULL|NULL|                NULL|NNL193809250|      466|\n",
      "|      info|               ump2b|            forbf901|    NULL|NULL|NULL|                NULL|NNL193809250|      467|\n",
      "|      info|               ump3b|            craij901|    NULL|NULL|NULL|                NULL|NNL193809250|      468|\n",
      "|      info|          translator|          Tom Thress|    NULL|NULL|NULL|                NULL|NNL193809250|      469|\n",
      "|      info|            inputter|          Tom Thress|    NULL|NULL|NULL|                NULL|NNL193809250|      470|\n",
      "|      info|           inputtime|  2021/03/25 11:01PM|    NULL|NULL|NULL|                NULL|NNL193809250|      471|\n",
      "|      info|           howscored|             unknown|    NULL|NULL|NULL|                NULL|NNL193809250|      472|\n",
      "|      info|             pitches|                none|    NULL|NULL|NULL|                NULL|NNL193809250|      473|\n",
      "|      info|                temp|                   0|    NULL|NULL|NULL|                NULL|NNL193809250|      474|\n",
      "|      info|             winddir|             unknown|    NULL|NULL|NULL|                NULL|NNL193809250|      475|\n",
      "|      info|           windspeed|                  -1|    NULL|NULL|NULL|                NULL|NNL193809250|      476|\n",
      "|      info|           fieldcond|             unknown|    NULL|NULL|NULL|                NULL|NNL193809250|      477|\n",
      "|      info|              precip|             unknown|    NULL|NULL|NULL|                NULL|NNL193809250|      478|\n",
      "|      info|                 sky|             unknown|    NULL|NULL|NULL|                NULL|NNL193809250|      479|\n",
      "|      info|          timeofgame|                   0|    NULL|NULL|NULL|                NULL|NNL193809250|      480|\n",
      "|      info|          attendance|               13000|    NULL|NULL|NULL|                NULL|NNL193809250|      481|\n",
      "|      info|                  wp|            browb107|    NULL|NULL|NULL|                NULL|NNL193809250|      482|\n",
      "|      info|                  lp|            brutj101|    NULL|NULL|NULL|                NULL|NNL193809250|      483|\n",
      "|      info|                save|                NULL|    NULL|NULL|NULL|                NULL|NNL193809250|      484|\n",
      "|      info|               gwrbi|                NULL|    NULL|NULL|NULL|                NULL|NNL193809250|      485|\n",
      "|     start|            fordj101|          Jimmy Ford|       0|   1|   9|                NULL|NNL193809250|      486|\n",
      "|     start|            taylj106|        Jelly Taylor|       0|   2|   3|                NULL|NNL193809250|      487|\n",
      "|     start|            johnb111|        Bert Johnson|       0|   3|   7|                NULL|NNL193809250|      488|\n",
      "|     start|            woodp104|       Parnell Woods|       0|   4|   4|                NULL|NNL193809250|      489|\n",
      "|     start|            robin101|       Neil Robinson|       0|   5|   6|                NULL|NNL193809250|      490|\n",
      "|     start|            cartc102|      Charles Carter|       0|   6|   8|                NULL|NNL193809250|      491|\n",
      "|     start|            smitr113|         R. S. Smith|       0|   7|   5|                NULL|NNL193809250|      492|\n",
      "|     start|            browl107|         Larry Brown|       0|   8|   2|                NULL|NNL193809250|      493|\n",
      "|     start|            trent101|           Ted Trent|       0|   9|   1|                NULL|NNL193809250|      494|\n",
      "|     start|            wrigb104|    Wild Bill Wright|       1|   1|   9|                NULL|NNL193809250|      495|\n",
      "|     start|            willc106|    Chester Williams|       1|   2|   4|                NULL|NNL193809250|      496|\n",
      "|     start|            banks101|        Sam Bankhead|       1|   3|   8|                NULL|NNL193809250|      497|\n",
      "|     start|            gibsj101|         Josh Gibson|       1|   4|   2|                NULL|NNL193809250|      498|\n",
      "|     start|            suttm101|        Mule Suttles|       1|   5|   3|                NULL|NNL193809250|      499|\n",
      "+----------+--------------------+--------------------+--------+----+----+--------------------+------------+---------+\n",
      "only showing top 500 rows\n",
      "\n"
     ]
    }
   ],
   "source": [
    "events.show(500)"
   ]
  },
  {
   "cell_type": "code",
   "execution_count": 11,
   "metadata": {},
   "outputs": [
    {
     "data": {
      "text/plain": [
       "[('event_type', 'string'),\n",
       " ('col2', 'string'),\n",
       " ('col3', 'string'),\n",
       " ('col4', 'string'),\n",
       " ('col5', 'string'),\n",
       " ('col6', 'string'),\n",
       " ('col7', 'string'),\n",
       " ('game_id', 'string'),\n",
       " ('record_id', 'bigint')]"
      ]
     },
     "execution_count": 11,
     "metadata": {},
     "output_type": "execute_result"
    }
   ],
   "source": [
    "events.dtypes"
   ]
  },
  {
   "cell_type": "code",
   "execution_count": 12,
   "metadata": {},
   "outputs": [],
   "source": [
    "# events.limit(1000).write.csv('out/test.csv')"
   ]
  },
  {
   "cell_type": "code",
   "execution_count": 13,
   "metadata": {},
   "outputs": [
    {
     "name": "stderr",
     "output_type": "stream",
     "text": [
      "                                                                                \r"
     ]
    },
    {
     "data": {
      "text/plain": [
       "29632387"
      ]
     },
     "execution_count": 13,
     "metadata": {},
     "output_type": "execute_result"
    }
   ],
   "source": [
    "events.count()"
   ]
  },
  {
   "cell_type": "markdown",
   "metadata": {},
   "source": [
    "## Game Info Table"
   ]
  },
  {
   "cell_type": "code",
   "execution_count": 14,
   "metadata": {},
   "outputs": [
    {
     "name": "stderr",
     "output_type": "stream",
     "text": [
      "Java HotSpot(TM) 64-Bit Server VM warning: CodeCache is full. Compiler has been disabled.\n",
      "Java HotSpot(TM) 64-Bit Server VM warning: Try increasing the code cache size using -XX:ReservedCodeCacheSize=\n"
     ]
    },
    {
     "name": "stdout",
     "output_type": "stream",
     "text": [
      "CodeCache: size=131072Kb used=34648Kb max_used=34658Kb free=96424Kb\n",
      " bounds [0x00000001071e8000, 0x0000000109408000, 0x000000010f1e8000]\n",
      " total_blobs=13411 nmethods=12447 adapters=876\n",
      " compilation: disabled (not enough contiguous free space left)\n"
     ]
    },
    {
     "name": "stderr",
     "output_type": "stream",
     "text": [
      "                                                                                \r"
     ]
    }
   ],
   "source": [
    "type_map = {'short': ['number', 'temp', 'timeofgame', 'windspeed'],\n",
    "            'integer': ['attendance'],\n",
    "            'date': ['date'],\n",
    "            'timestamp': ['inputtime']}\n",
    "# also works:\n",
    "# type_map = {types.ShortType(): ['number', 'temp', 'timeofgame', 'windspeed'],\n",
    "#             types.IntegerType(): ['attendance'],\n",
    "#             types.DateType(): ['date'],\n",
    "#             types.TimestampType(): ['inputtime']}\n",
    "\n",
    "game_info_table = (events.filter(events.event_type == 'info')\n",
    "                         .select('game_id', 'col2', 'col3')\n",
    "                         .groupBy('game_id').pivot('col2').agg(first('col3')))\n",
    "game_info_table = convert_df_datatypes(game_info_table, types=type_map)"
   ]
  },
  {
   "cell_type": "code",
   "execution_count": 15,
   "metadata": {},
   "outputs": [
    {
     "name": "stderr",
     "output_type": "stream",
     "text": [
      "24/07/07 14:15:53 WARN SparkStringUtils: Truncated the string representation of a plan since it was too large. This behavior can be adjusted by setting 'spark.sql.debug.maxToStringFields'.\n",
      "                                                                                \r"
     ]
    },
    {
     "name": "stdout",
     "output_type": "stream",
     "text": [
      "+------------+----------+----+--------+--------+---------+------------+-----+--------+----------+---------+----+-------+--------------------+--------------------+---------+--------+------+--------+-------+-------+--------+------------------+-----+--------+---------+----+----------+----------+--------------------+--------+--------+--------+--------+--------+--------+-----+-------+-------+---------+--------+\n",
      "|     game_id|attendance|date|daynight|edittime|fieldcond|    gametype|gwrbi|hometeam|howentered|howscored|htbf|innings|       inputprogvers|            inputter|inputtime|      lp|number| oscorer|pitches| precip|    save|            scorer| site|     sky|starttime|temp|tiebreaker|timeofgame|          translator|   ump1b|   ump2b|   ump3b| umphome|   umplf|   umprf|usedh|visteam|winddir|windspeed|      wp|\n",
      "+------------+----------+----+--------+--------+---------+------------+-----+--------+----------+---------+----+-------+--------------------+--------------------+---------+--------+------+--------+-------+-------+--------+------------------+-----+--------+---------+----+----------+----------+--------------------+--------+--------+--------+--------+--------+--------+-----+-------+-------+---------+--------+\n",
      "|ACY192610060|      1186|NULL|     day|    NULL|  unknown|championship| NULL|     ACY|      NULL|  unknown|NULL|   NULL|version 7RS(19) o...|          Tom Thress|     NULL|powew101|     0|    NULL|   none|unknown|    NULL|              NULL|ACY01| unknown|   0:00PM|   0|      NULL|         0|          Tom Thress|hayeg901|    NULL|    NULL|fyfel901|    NULL|    NULL|false|    CAG|unknown|       -1|griec101|\n",
      "|ALS193707070|     31391|NULL|     day|    NULL|  unknown|     allstar| NULL|     ALS|      NULL|     park|NULL|   NULL|version 7RS(19) o...|         Tim Cashion|     NULL|deand102|     0|    NULL|   none|unknown|hardm101|    Spalding Guide|WAS09| unknown|   0:00PM|   0|      NULL|       150|         Tim Cashion|pineb101|quinj901|barrg901|mcgob901|    NULL|    NULL|false|    NLS|unknown|       -1|gomel102|\n",
      "|ALS195607100|     28843|NULL|     day|    NULL|      dry|     allstar| NULL|     ALS|      NULL|     park|NULL|   NULL|version 7RS(19) o...|Wayne Townsend,Ti...|     NULL|pierb101|     0|    NULL|pitches|   none|antoj103|TSN Guide 1957,602|WAS09|overcast|   0:00PM|   0|      NULL|       165|Wayne Townsend,Ti...|pineb101|hurle901|gorea901|berrc103|jackb901|flahr901|false|    NLS|   tocf|       -1|frieb102|\n",
      "|ALS196307090|     44160|NULL|     day|    NULL|  unknown|     allstar| NULL|     ALS|      NULL|     park|NULL|   NULL|version 7RS(19) o...|         Tim Cashion|     NULL|bunnj101|     0|    NULL|   none|unknown|drysd101|   Sp'ing Nws Guid|CLE07| unknown|   0:00PM|   0|      NULL|       140|         Tim Cashion|jackb901|smita901|pryop901|soarh901|hallb901|harvd901|false|    NLS|unknown|       -1|jackl102|\n",
      "|ALS197907170|     58905|NULL|   night|    NULL|      dry|     allstar| NULL|     ALS|      NULL|     park|NULL|   NULL|version 7RS(19) o...|         Tim Cashion|     NULL|kernj001|     0|    NULL|   none|   none|    NULL|    TSN Guide 1980|SEA02|    dome|   0:00PM|   0|      NULL|       191|         Tim Cashion|weyel901|bremn901|willb901|malog901|coont901|rennd901|false|    NLS|unknown|       -1|suttb001|\n",
      "|ALS199307130|     48147|NULL|   night|    NULL|  unknown|     allstar| NULL|     ALS|      NULL|     park|NULL|   NULL|                NULL|                 DWV|     NULL|burkj001|     0|    NULL|   none|unknown|    NULL|         TSN Guide|BAL12| unknown|     0:00|   0|      NULL|       169|                NULL|davib902|reilm901|darlg901|mckej901|scotd901|hirsm901| true|    NLS|unknown|       -1|mcdoj001|\n",
      "|ANA199704210|     13413|NULL|   night|    NULL|      dry|        NULL| NULL|     ANA|      NULL|     NULL|NULL|   NULL|                NULL|                NULL|     NULL|spolp001|     0|munse701|   none|   none|    NULL|              NULL|ANA01|   night|     7:06|  70|      NULL|       244|                NULL|morrd901|barrt901|koscg901|clara901|    NULL|    NULL| true|    TOR|   rtol|        5|delur001|\n",
      "|ANA199705160|     26033|NULL|   night|    NULL|      dry|        NULL| NULL|     ANA|      NULL|     NULL|NULL|   NULL|                NULL|                NULL|     NULL|mcdob001|     0|munse701|pitches|   none|    NULL|              NULL|ANA01|   night|     7:05|  73|      NULL|       166|                NULL|shulj901|reedr901|tscht901|denkd901|    NULL|    NULL| true|    MIL|   ltor|        8|finlc001|\n",
      "|ANA199708100|     34060|NULL|   night|    NULL|      dry|        NULL| NULL|     ANA|      NULL|     NULL|NULL|   NULL|                NULL|                NULL|     NULL|jamem001|     0|munse701|pitches|   none|myerr001|              NULL|ANA01|  cloudy|     5:05|  75|      NULL|       213|                NULL|kaisk901|hicke901|welkt901|cousd901|    NULL|    NULL| true|    BAL| fromrf|        6|benia001|\n",
      "|ANA199708210|     27102|NULL|   night|    NULL|      dry|        NULL| NULL|     ANA|      NULL|     NULL|NULL|   NULL|                NULL|                NULL|     NULL|harrp001|     0|munse701|pitches|   none|nelsj001|              NULL|ANA01|   night|     7:05|  75|      NULL|       251|                NULL|hirsj901|millb901|joycj901|clara901|    NULL|    NULL| true|    NYA| fromcf|        7|stanm003|\n",
      "|ANA199708260|     21012|NULL|   night|    NULL|      dry|        NULL| NULL|     ANA|      NULL|     NULL|NULL|   NULL|                NULL|                NULL|     NULL|plune001|     0|munse701|pitches|   none|    NULL|              NULL|ANA01|   night|     7:05|  84|      NULL|       187|                NULL|younl901|garcr901|fordd901|reilm901|    NULL|    NULL| true|    CLE|   ltor|        8|may-d002|\n",
      "|ANA199709010|     19614|NULL|   night|    NULL|      dry|        NULL| NULL|     ANA|      NULL|     NULL|NULL|   NULL|                NULL|                NULL|     NULL|watsa001|     0|munse701|pitches|   none|dipoj001|              NULL|ANA01|   night|     7:05|  77|      NULL|       175|                NULL|merrd901|scotd901|phild901|roe-r901|    NULL|    NULL| true|    COL|   ltor|        6|thomj005|\n",
      "|ANA199709020|     18266|NULL|   night|    NULL|      dry|        NULL| NULL|     ANA|      NULL|     NULL|NULL|   NULL|                NULL|                NULL|     NULL|dickj001|     0|munse701|pitches|   none|munom001|              NULL|ANA01|   night|     7:05|  84|      NULL|       181|                NULL|scotd901|phild901|roe-r901|merrd901|    NULL|    NULL| true|    COL|   tolf|        3|astap001|\n",
      "|ANA199709170|     16800|NULL|   night|    NULL|      dry|        NULL| NULL|     ANA|      NULL|     NULL|NULL|   NULL|                NULL|                NULL|     NULL|ludwe001|     0|munse701|pitches|   none|    NULL|              NULL|ANA01|   night|     7:35|  76|      NULL|       199|                NULL|fordd901|younl901|garcr901|clara901|    NULL|    NULL| true|    OAK|   ltor|        7|watsa001|\n",
      "|ANA199709260|     17167|NULL|   night|    NULL|      dry|        NULL| NULL|     ANA|      NULL|     NULL|NULL|   NULL|                NULL|                NULL|     NULL|holtm001|     0|munse701|pitches|   none|    NULL|              NULL|ANA01|   sunny|     9:05|  73|      NULL|       165|                NULL|mckej901|hirsj901|hendt901|joycj901|    NULL|    NULL| true|    TEX|   tolf|        9|hellr001|\n",
      "|ANA199709270|     21676|NULL|   night|    NULL|      dry|        NULL| NULL|     ANA|      NULL|     NULL|NULL|   NULL|                NULL|                NULL|     NULL|santj001|     0|munse701|pitches|   none|    NULL|              NULL|ANA01|   night|     7:05|  78|      NULL|       196|                NULL|hirsj901|hendt901|joycj901|mckej901|    NULL|    NULL| true|    TEX|   torf|        5|perct001|\n",
      "|ANA199804060|     21352|NULL|   night|    NULL|      dry|        NULL| NULL|     ANA|      NULL|     NULL|NULL|   NULL|                NULL|                NULL|     NULL|gordt001|     0|munse701|pitches|   none|    NULL|              NULL|ANA01|  cloudy|     7:05|  60|      NULL|       197|                NULL|roe-r901|merrd901|scotd901|barrt901|    NULL|    NULL| true|    BOS|   tolf|        6|holtm001|\n",
      "|ANA199805080|     31064|NULL|   night|    NULL|      dry|        NULL| NULL|     ANA|      NULL|     NULL|NULL|   NULL|                NULL|                NULL|     NULL|moehb001|     0|munse701|pitches|   none|perct001|              NULL|ANA01|  cloudy|     7:05|  64|      NULL|       155|                NULL|hirsj901|reilm901|garcr901|mcclt901|    NULL|    NULL| true|    DET|   ltor|        5|watsa001|\n",
      "|ANA199805190|     17275|NULL|   night|    NULL|      dry|        NULL| NULL|     ANA|      NULL|     NULL|NULL|   NULL|                NULL|                NULL|     NULL|taylb001|     0|munse701|pitches|   none|    NULL|              NULL|ANA01|   night|     7:05|  69|      NULL|       206|                NULL|roe-r901|merrd901|scotd901|phild901|    NULL|    NULL| true|    OAK|   ltor|        4|hases001|\n",
      "|ANA199805270|     17810|NULL|   night|    NULL|      dry|        NULL| NULL|     ANA|      NULL|     NULL|NULL|   NULL|                NULL|                NULL|     NULL|olivo001|     0|munse701|pitches|   none|    NULL|              NULL|ANA01|   night|     7:36|  70|      NULL|       139|                NULL|phild901|roe-r901|merrd901|scotd901|    NULL|    NULL| true|    KCA|   ltor|        3|rosaj001|\n",
      "+------------+----------+----+--------+--------+---------+------------+-----+--------+----------+---------+----+-------+--------------------+--------------------+---------+--------+------+--------+-------+-------+--------+------------------+-----+--------+---------+----+----------+----------+--------------------+--------+--------+--------+--------+--------+--------+-----+-------+-------+---------+--------+\n",
      "only showing top 20 rows\n",
      "\n"
     ]
    }
   ],
   "source": [
    "game_info_table.show()"
   ]
  },
  {
   "cell_type": "code",
   "execution_count": 16,
   "metadata": {},
   "outputs": [
    {
     "data": {
      "text/plain": [
       "[('game_id', 'string'),\n",
       " ('attendance', 'int'),\n",
       " ('date', 'date'),\n",
       " ('daynight', 'string'),\n",
       " ('edittime', 'string'),\n",
       " ('fieldcond', 'string'),\n",
       " ('gametype', 'string'),\n",
       " ('gwrbi', 'string'),\n",
       " ('hometeam', 'string'),\n",
       " ('howentered', 'string'),\n",
       " ('howscored', 'string'),\n",
       " ('htbf', 'string'),\n",
       " ('innings', 'string'),\n",
       " ('inputprogvers', 'string'),\n",
       " ('inputter', 'string'),\n",
       " ('inputtime', 'timestamp'),\n",
       " ('lp', 'string'),\n",
       " ('number', 'smallint'),\n",
       " ('oscorer', 'string'),\n",
       " ('pitches', 'string'),\n",
       " ('precip', 'string'),\n",
       " ('save', 'string'),\n",
       " ('scorer', 'string'),\n",
       " ('site', 'string'),\n",
       " ('sky', 'string'),\n",
       " ('starttime', 'string'),\n",
       " ('temp', 'smallint'),\n",
       " ('tiebreaker', 'string'),\n",
       " ('timeofgame', 'smallint'),\n",
       " ('translator', 'string'),\n",
       " ('ump1b', 'string'),\n",
       " ('ump2b', 'string'),\n",
       " ('ump3b', 'string'),\n",
       " ('umphome', 'string'),\n",
       " ('umplf', 'string'),\n",
       " ('umprf', 'string'),\n",
       " ('usedh', 'string'),\n",
       " ('visteam', 'string'),\n",
       " ('winddir', 'string'),\n",
       " ('windspeed', 'smallint'),\n",
       " ('wp', 'string')]"
      ]
     },
     "execution_count": 16,
     "metadata": {},
     "output_type": "execute_result"
    }
   ],
   "source": [
    "game_info_table.dtypes"
   ]
  },
  {
   "cell_type": "code",
   "execution_count": 17,
   "metadata": {},
   "outputs": [
    {
     "name": "stderr",
     "output_type": "stream",
     "text": [
      "                                                                                \r"
     ]
    },
    {
     "data": {
      "text/plain": [
       "193415"
      ]
     },
     "execution_count": 17,
     "metadata": {},
     "output_type": "execute_result"
    }
   ],
   "source": [
    "game_info_table.count()"
   ]
  },
  {
   "cell_type": "markdown",
   "metadata": {},
   "source": [
    "## Game Data Table"
   ]
  },
  {
   "cell_type": "code",
   "execution_count": 18,
   "metadata": {},
   "outputs": [],
   "source": [
    "game_data_table = events.filter(events.event_type == 'data').select(['game_id', 'col2', 'col3', 'col4'])\n",
    "game_data_table = rename_columns(game_data_table, \n",
    "                                 {'col2': 'metric_type', 'col3': 'player_code', 'col4': 'metric_value'})\n",
    "game_data_table = convert_df_datatypes(game_data_table, {'short': ['metric_value']})"
   ]
  },
  {
   "cell_type": "code",
   "execution_count": 19,
   "metadata": {},
   "outputs": [
    {
     "name": "stdout",
     "output_type": "stream",
     "text": [
      "+------------+-----------+-----------+------------+\n",
      "|     game_id|metric_type|player_code|metric_value|\n",
      "+------------+-----------+-----------+------------+\n",
      "|NLS193807060|         er|   gomel102|           0|\n",
      "|NLS193807060|         er|   allej102|           1|\n",
      "|NLS193807060|         er|   grovl101|           0|\n",
      "|NLS193807060|         er|   vandj101|           0|\n",
      "|NLS193807060|         er|   lee-b103|           0|\n",
      "|NLS193807060|         er|   browm103|           1|\n",
      "|ASW193808210|         er|   walke103|           5|\n",
      "|ASW193808210|         er|   browb107|           0|\n",
      "|ASW193808210|         er|   taylj108|           0|\n",
      "|ASW193808210|         er|   cornw101|           3|\n",
      "|ASW193808210|         er|   smith111|           1|\n",
      "|ASW193808210|         er|   radct101|           0|\n",
      "|NNL193809240|         er|   barnv103|           9|\n",
      "|NNL193809240|         er|   haysc101|           2|\n",
      "|NNL193809240|         er|   mcdut101|           3|\n",
      "|NNL193809250|         er|   trent101|           4|\n",
      "|NNL193809250|         er|   brutj101|           1|\n",
      "|NNL193809250|         er|   browr103|           0|\n",
      "|NNL193809250|         er|   taylj108|           2|\n",
      "|NNL193809250|         er|   browb107|           0|\n",
      "+------------+-----------+-----------+------------+\n",
      "only showing top 20 rows\n",
      "\n"
     ]
    }
   ],
   "source": [
    "game_data_table.show()"
   ]
  },
  {
   "cell_type": "code",
   "execution_count": 20,
   "metadata": {},
   "outputs": [
    {
     "name": "stderr",
     "output_type": "stream",
     "text": [
      "                                                                                \r"
     ]
    },
    {
     "data": {
      "text/plain": [
       "1115275"
      ]
     },
     "execution_count": 20,
     "metadata": {},
     "output_type": "execute_result"
    }
   ],
   "source": [
    "game_data_table.count()"
   ]
  },
  {
   "cell_type": "markdown",
   "metadata": {},
   "source": [
    "## Game Rosters Table"
   ]
  },
  {
   "cell_type": "code",
   "execution_count": 21,
   "metadata": {},
   "outputs": [],
   "source": [
    "game_rosters_table = (events.filter(events.event_type.isin(['start', 'sub']))\n",
    "                            .select(['game_id', 'record_id', 'event_type', \n",
    "                                     'col2', 'col3', 'col4', 'col5', 'col6']))\n",
    "game_rosters_table = rename_columns(game_rosters_table,\n",
    "                                    {'col2': 'player_id', 'col3': 'player_name', \n",
    "                                     'col4': 'is_home_team', 'col5': 'batting_order',\n",
    "                                     'col6': 'fielding_position'})\n",
    "game_rosters_table = convert_df_datatypes(game_rosters_table,\n",
    "                                          {'boolean': ['is_home_team'],\n",
    "                                           'short': ['batting_order', 'fielding_position']})"
   ]
  },
  {
   "cell_type": "code",
   "execution_count": 22,
   "metadata": {},
   "outputs": [
    {
     "name": "stdout",
     "output_type": "stream",
     "text": [
      "+------------+---------+----------+---------+------------------+------------+-------------+-----------------+\n",
      "|     game_id|record_id|event_type|player_id|       player_name|is_home_team|batting_order|fielding_position|\n",
      "+------------+---------+----------+---------+------------------+------------+-------------+-----------------+\n",
      "|NLS193807060|       34|     start| kreem101|     Mike Kreevich|       false|            1|                7|\n",
      "|NLS193807060|       35|     start| gehrc101| Charlie Gehringer|       false|            2|                4|\n",
      "|NLS193807060|       36|     start| avere101|      Earl Averill|       false|            3|                8|\n",
      "|NLS193807060|       37|     start| foxxj101|       Jimmie Foxx|       false|            4|                3|\n",
      "|NLS193807060|       38|     start| dimaj101|      Joe DiMaggio|       false|            5|                9|\n",
      "|NLS193807060|       39|     start| dickb101|       Bill Dickey|       false|            6|                2|\n",
      "|NLS193807060|       40|     start| cronj101|        Joe Cronin|       false|            7|                6|\n",
      "|NLS193807060|       41|     start| lewib103|       Buddy Lewis|       false|            8|                5|\n",
      "|NLS193807060|       42|     start| gomel102|       Lefty Gomez|       false|            9|                1|\n",
      "|NLS193807060|       43|     start| hacks101|         Stan Hack|        true|            1|                5|\n",
      "|NLS193807060|       44|     start| hermb101|      Billy Herman|        true|            2|                4|\n",
      "|NLS193807060|       45|     start| goodi101|      Ival Goodman|        true|            3|                9|\n",
      "|NLS193807060|       46|     start| medwj101|       Joe Medwick|        true|            4|                7|\n",
      "|NLS193807060|       47|     start| ott-m101|           Mel Ott|        true|            5|                8|\n",
      "|NLS193807060|       48|     start| lombe101|    Ernie Lombardi|        true|            6|                2|\n",
      "|NLS193807060|       49|     start| mccof101|   Frank McCormick|        true|            7|                3|\n",
      "|NLS193807060|       50|     start| durol101|      Leo Durocher|        true|            8|                6|\n",
      "|NLS193807060|       51|     start| vandj101|Johnny Vander Meer|        true|            9|                1|\n",
      "|NLS193807060|       72|       sub| leibh101|       Hank Leiber|        true|            9|               11|\n",
      "|NLS193807060|       78|       sub| lee-b103|          Bill Lee|        true|            9|                1|\n",
      "+------------+---------+----------+---------+------------------+------------+-------------+-----------------+\n",
      "only showing top 20 rows\n",
      "\n"
     ]
    }
   ],
   "source": [
    "game_rosters_table.show()"
   ]
  },
  {
   "cell_type": "code",
   "execution_count": 23,
   "metadata": {},
   "outputs": [],
   "source": [
    "#TODO: dtypes"
   ]
  },
  {
   "cell_type": "markdown",
   "metadata": {},
   "source": [
    "## Umpire Change Events Table"
   ]
  },
  {
   "cell_type": "code",
   "execution_count": 24,
   "metadata": {},
   "outputs": [],
   "source": [
    "umpchange_events_table = events.filter(events.col2.contains('umpchange'))\n",
    "umpchange_events_table = split_csv_column(umpchange_events_table, 'col2')\n",
    "umpchange_events_table = umpchange_events_table.select(['record_id', 'game_id', \n",
    "                                                        'csv1', 'csv2', 'csv3'])\n",
    "umpchange_events_table = rename_columns(umpchange_events_table, {'csv1': 'inning',\n",
    "                                                                 'csv2': 'position',\n",
    "                                                                 'csv3': 'umpire_id'})\n",
    "umpchange_events_table = convert_df_datatypes(umpchange_events_table, {'short': ['inning']})"
   ]
  },
  {
   "cell_type": "code",
   "execution_count": 25,
   "metadata": {},
   "outputs": [
    {
     "name": "stdout",
     "output_type": "stream",
     "text": [
      "+---------+------------+------+--------+---------+\n",
      "|record_id|     game_id|inning|position|umpire_id|\n",
      "+---------+------------+------+--------+---------+\n",
      "|      843|NLS196107110|     5| umphome| runge901|\n",
      "|      844|NLS196107110|     5|   ump1b| craws901|\n",
      "|      845|NLS196107110|     5|   ump2b| umonf901|\n",
      "|      846|NLS196107110|     5|   ump3b| lands901|\n",
      "|     1415|NLS194207060|     5| umphome| mcgob901|\n",
      "|     1416|NLS194207060|     5|   ump1b| balll901|\n",
      "|     1417|NLS194207060|     5|   ump2b| stewe901|\n",
      "|     1418|NLS194207060|     5|   ump3b| barla901|\n",
      "|     1946|NLS194707080|     5| umphome| passa901|\n",
      "|     1947|NLS194707080|     5|   ump1b| henlb101|\n",
      "|     1948|NLS194707080|     5|   ump2b| boyej901|\n",
      "|     1949|NLS194707080|     5|   ump3b| conlj102|\n",
      "|     2496|ALS194607090|     5| umphome| goetl901|\n",
      "|     2497|ALS194607090|     5|   ump1b| romme101|\n",
      "|     2498|ALS194607090|     5|   ump2b| boggd901|\n",
      "|     2499|ALS194607090|     5|   ump3b| summb901|\n",
      "|     3005|NLS194407110|     5| umphome| hubbc901|\n",
      "|     3006|NLS194407110|     5|   ump1b| searz901|\n",
      "|     3007|NLS194407110|     5|   ump2b| berrc103|\n",
      "|     3008|NLS194407110|     5|   ump3b| barrg901|\n",
      "+---------+------------+------+--------+---------+\n",
      "only showing top 20 rows\n",
      "\n"
     ]
    }
   ],
   "source": [
    "umpchange_events_table.show()"
   ]
  },
  {
   "cell_type": "code",
   "execution_count": 26,
   "metadata": {},
   "outputs": [
    {
     "name": "stderr",
     "output_type": "stream",
     "text": [
      "                                                                                \r"
     ]
    },
    {
     "data": {
      "text/plain": [
       "1553"
      ]
     },
     "execution_count": 26,
     "metadata": {},
     "output_type": "execute_result"
    }
   ],
   "source": [
    "umpchange_events_table.count()"
   ]
  },
  {
   "cell_type": "code",
   "execution_count": 27,
   "metadata": {},
   "outputs": [
    {
     "data": {
      "text/plain": [
       "[('record_id', 'bigint'),\n",
       " ('game_id', 'string'),\n",
       " ('inning', 'smallint'),\n",
       " ('position', 'string'),\n",
       " ('umpire_id', 'string')]"
      ]
     },
     "execution_count": 27,
     "metadata": {},
     "output_type": "execute_result"
    }
   ],
   "source": [
    "umpchange_events_table.dtypes"
   ]
  },
  {
   "cell_type": "markdown",
   "metadata": {},
   "source": [
    "## Comments Table"
   ]
  },
  {
   "cell_type": "code",
   "execution_count": 28,
   "metadata": {},
   "outputs": [],
   "source": [
    "comments_table = (events.filter(events.event_type == 'com')\n",
    "                              .filter(~events.col2.contains('umpchange'))\n",
    "                              .select(['record_id', 'game_id', 'col2']))"
   ]
  },
  {
   "cell_type": "code",
   "execution_count": 29,
   "metadata": {},
   "outputs": [
    {
     "name": "stdout",
     "output_type": "stream",
     "text": [
      "+---------+------------+------------------------------------------------------------------------+\n",
      "|record_id|game_id     |col2                                                                    |\n",
      "+---------+------------+------------------------------------------------------------------------+\n",
      "|52       |NLS193807060|$Managers: Bill Terry (NL New York), Joe McCarthy (AL New York)         |\n",
      "|130      |NLS193807060|$Charlie Gehringer failed to cover 1B on the attempted sacrifice;       |\n",
      "|131      |NLS193807060|Jimmie Foxx's throw went into RF and Joe DiMaggio overthrew HP          |\n",
      "|352      |NNL193809240|$Play-by-play deduced from newspaper game stories and box score         |\n",
      "|504      |NNL193809250|$Play-by-play deduced from newspaper game stories and box score         |\n",
      "|658      |SAS193810020|$Play-by-play deduced from newspaper game stories and box score         |\n",
      "|797      |NLS196107110|$Managers: Danny Murtaugh (NL Pittsburgh), Paul Richards (AL Baltimore);|\n",
      "|798      |NLS196107110|record: 7 errors                                                        |\n",
      "|832      |NLS196107110|$off Tony Kubek's knee into short LF                                    |\n",
      "|835      |NLS196107110|$Frank Lary left with sore shoulder                                     |\n",
      "|847      |NLS196107110|$the umpires changed positions                                          |\n",
      "|894      |NLS196107110|$homer in first All-Star at bat for George Altman                       |\n",
      "|908      |NLS196107110|$the wind started to blow                                               |\n",
      "|920      |NLS196107110|$the famous 'wind-blown' balk                                           |\n",
      "|923      |NLS196107110|$wind-blown popup                                                       |\n",
      "|1020     |ALS196107310|$Managers: Danny Murtaugh (NL Pittsburgh), Paul Richards (AL Baltimore);|\n",
      "|1021     |ALS196107310|first tie in history                                                    |\n",
      "|1055     |ALS196107310|$mild protest because Norm Cash appeared to juggle throw in dirt        |\n",
      "|1092     |ALS196107310|$the lights turned on                                                   |\n",
      "|1117     |ALS196107310|rain starts                                                             |\n",
      "+---------+------------+------------------------------------------------------------------------+\n",
      "only showing top 20 rows\n",
      "\n"
     ]
    }
   ],
   "source": [
    "comments_table.show(20, False)"
   ]
  },
  {
   "cell_type": "code",
   "execution_count": 30,
   "metadata": {},
   "outputs": [
    {
     "name": "stderr",
     "output_type": "stream",
     "text": [
      "                                                                                \r"
     ]
    },
    {
     "data": {
      "text/plain": [
       "227801"
      ]
     },
     "execution_count": 30,
     "metadata": {},
     "output_type": "execute_result"
    }
   ],
   "source": [
    "comments_table.count()"
   ]
  },
  {
   "cell_type": "markdown",
   "metadata": {},
   "source": [
    "## Adjustments Table"
   ]
  },
  {
   "cell_type": "code",
   "execution_count": 31,
   "metadata": {},
   "outputs": [],
   "source": [
    "@udf(returnType=types.MapType(types.StringType(), types.StringType()))\n",
    "def _adjustment_values_map(event_type, col2, col3):\n",
    "    if event_type == 'badj':\n",
    "        out = {'event_name': 'Batter Adjustment','player_id': col2, 'hand': col3}\n",
    "    elif event_type == 'padj':\n",
    "        out = {'event_name': 'Pitcher Adjustment', 'player_id': col2, 'hand': col3}\n",
    "    elif event_type == 'ladj':\n",
    "        out = {'event_name': 'Lineup Adjustment', 'batting_team': col2, 'batting_order_position': col3}\n",
    "    elif event_type == 'radj':\n",
    "        out = {'event_name': 'Runner Adjustment', 'player_id': col2, 'base': col3}\n",
    "    elif event_type == 'presadj':\n",
    "        out = {'event_name': 'Pitcher Responsiblity Adjustment', 'player_id': col2, 'base': col3}\n",
    "    else:\n",
    "        out = None\n",
    "    return out\n"
   ]
  },
  {
   "cell_type": "code",
   "execution_count": 32,
   "metadata": {},
   "outputs": [],
   "source": [
    "adjustments_table = events.filter(events.event_type.isin(['badj', 'padj', 'ladj', 'radj', 'presadj']))\n",
    "adjustments_table = (adjustments_table.withColumn('adjustment_events_map',\n",
    "                                                  _adjustment_values_map(adjustments_table.event_type,\n",
    "                                                                         adjustments_table.col2,\n",
    "                                                                         adjustments_table.col3))\n",
    "                                      .select(['record_id', 'game_id', \n",
    "                                               'event_type', 'adjustment_events_map']))"
   ]
  },
  {
   "cell_type": "code",
   "execution_count": 33,
   "metadata": {},
   "outputs": [
    {
     "name": "stdout",
     "output_type": "stream",
     "text": [
      "+-----------+------------+----------+----------------------------------------------------------------------------------+\n",
      "|record_id  |game_id     |event_type|adjustment_events_map                                                             |\n",
      "+-----------+------------+----------+----------------------------------------------------------------------------------+\n",
      "|68719492828|DET194406160|presadj   |{event_name -> Pitcher Responsiblity Adjustment, player_id -> orrej101, base -> 3}|\n",
      "|68719494521|DET194408272|presadj   |{event_name -> Pitcher Responsiblity Adjustment, player_id -> eatoz101, base -> 3}|\n",
      "|68719545278|PHA194505240|ladj      |{batting_order_position -> 6, event_name -> Lineup Adjustment, batting_team -> 1} |\n",
      "|68719545281|PHA194505240|ladj      |{batting_order_position -> 5, event_name -> Lineup Adjustment, batting_team -> 1} |\n",
      "|68719545290|PHA194505240|ladj      |{batting_order_position -> 6, event_name -> Lineup Adjustment, batting_team -> 1} |\n",
      "|68719554816|DET194606262|presadj   |{event_name -> Pitcher Responsiblity Adjustment, player_id -> castg101, base -> 3}|\n",
      "|68719564280|WS1194605060|presadj   |{event_name -> Pitcher Responsiblity Adjustment, player_id -> johnv101, base -> 2}|\n",
      "|68719569181|COL201905100|badj      |{event_name -> Batter Adjustment, player_id -> mejif001, hand -> R}               |\n",
      "|68719581788|CIN202104170|radj      |{event_name -> Runner Adjustment, player_id -> rosaa003, base -> 2}               |\n",
      "|68719581798|CIN202104170|radj      |{event_name -> Runner Adjustment, player_id -> suare001, base -> 2}               |\n",
      "|68719582350|CIN202104210|radj      |{event_name -> Runner Adjustment, player_id -> smitp002, base -> 2}               |\n",
      "|68719582364|CIN202104210|radj      |{event_name -> Runner Adjustment, player_id -> stept001, base -> 2}               |\n",
      "|68719582567|CIN202104220|radj      |{event_name -> Runner Adjustment, player_id -> cabra002, base -> 2}               |\n",
      "|68719582585|CIN202104220|radj      |{event_name -> Runner Adjustment, player_id -> schrm001, base -> 2}               |\n",
      "|68719583152|CIN202105020|radj      |{event_name -> Runner Adjustment, player_id -> duffm002, base -> 2}               |\n",
      "|68719583165|CIN202105020|radj      |{event_name -> Runner Adjustment, player_id -> winkj002, base -> 2}               |\n",
      "|68719583503|CIN202105050|radj      |{event_name -> Runner Adjustment, player_id -> hendl001, base -> 2}               |\n",
      "|68719583509|CIN202105050|radj      |{event_name -> Runner Adjustment, player_id -> barnt001, base -> 2}               |\n",
      "|68719588273|CIN202107170|radj      |{event_name -> Runner Adjustment, player_id -> garca003, base -> 2}               |\n",
      "|68719588284|CIN202107170|radj      |{event_name -> Runner Adjustment, player_id -> lorem002, base -> 2}               |\n",
      "+-----------+------------+----------+----------------------------------------------------------------------------------+\n",
      "only showing top 20 rows\n",
      "\n"
     ]
    }
   ],
   "source": [
    "adjustments_table.show(20, False)"
   ]
  },
  {
   "cell_type": "code",
   "execution_count": 34,
   "metadata": {},
   "outputs": [
    {
     "data": {
      "text/plain": [
       "[('record_id', 'bigint'),\n",
       " ('game_id', 'string'),\n",
       " ('event_type', 'string'),\n",
       " ('adjustment_events_map', 'map<string,string>')]"
      ]
     },
     "execution_count": 34,
     "metadata": {},
     "output_type": "execute_result"
    }
   ],
   "source": [
    "adjustments_table.dtypes"
   ]
  },
  {
   "cell_type": "code",
   "execution_count": 35,
   "metadata": {},
   "outputs": [
    {
     "name": "stderr",
     "output_type": "stream",
     "text": [
      "                                                                                \r"
     ]
    },
    {
     "data": {
      "text/plain": [
       "7278"
      ]
     },
     "execution_count": 35,
     "metadata": {},
     "output_type": "execute_result"
    }
   ],
   "source": [
    "adjustments_table.count()"
   ]
  },
  {
   "cell_type": "markdown",
   "metadata": {},
   "source": [
    "## Events Table"
   ]
  },
  {
   "cell_type": "code",
   "execution_count": 36,
   "metadata": {},
   "outputs": [],
   "source": [
    "events_table = (events.filter(events.event_type == 'play')\n",
    "                      .select(['record_id', 'game_id', 'col2', 'col3', \n",
    "                               'col4', 'col5', 'col6', 'col7']))\n",
    "col_names = {'col2': 'inning', 'col3': 'is_home_team', 'col4': 'player_id', \n",
    "             'col5': 'count', 'col6': 'pitches', 'col7': 'play_description'}\n",
    "events_table = rename_columns(events_table, col_names)\n",
    "events_table = convert_df_datatypes(events_table, {'short': ['inning'], \n",
    "                                                   'boolean': ['is_home_team']})"
   ]
  },
  {
   "cell_type": "code",
   "execution_count": 37,
   "metadata": {},
   "outputs": [
    {
     "name": "stdout",
     "output_type": "stream",
     "text": [
      "+---------+------------+------+------------+---------+-----+-------+----------------+\n",
      "|record_id|     game_id|inning|is_home_team|player_id|count|pitches|play_description|\n",
      "+---------+------------+------+------------+---------+-----+-------+----------------+\n",
      "|       53|NLS193807060|     1|       false| kreem101|   ??|   NULL|             8/F|\n",
      "|       54|NLS193807060|     1|       false| gehrc101|   ??|   NULL|              13|\n",
      "|       55|NLS193807060|     1|       false| avere101|   ??|   NULL|              43|\n",
      "|       56|NLS193807060|     1|        true| hacks101|   ??|   NULL|              S7|\n",
      "|       57|NLS193807060|     1|        true| hermb101|   ??|   NULL|        E6/G.1-3|\n",
      "|       58|NLS193807060|     1|        true| goodi101|   ??|   NULL|             K/C|\n",
      "|       59|NLS193807060|     1|        true| medwj101|   ??|   NULL|       8.3-H(UR)|\n",
      "|       60|NLS193807060|     1|        true| ott-m101|   ??|   NULL|             8/F|\n",
      "|       61|NLS193807060|     2|       false| foxxj101|   ??|   NULL|               K|\n",
      "|       62|NLS193807060|     2|       false| dimaj101|   ??|   NULL|              13|\n",
      "|       63|NLS193807060|     2|       false| dickb101|   ??|   NULL|              43|\n",
      "|       64|NLS193807060|     2|        true| lombe101|   ??|   NULL|              53|\n",
      "|       65|NLS193807060|     2|        true| mccof101|   ??|   NULL|             4/P|\n",
      "|       66|NLS193807060|     2|        true| durol101|   ??|   NULL|              63|\n",
      "|       67|NLS193807060|     3|       false| cronj101|   ??|   NULL|               S|\n",
      "|       68|NLS193807060|     3|       false| lewib103|   ??|   NULL|             8/F|\n",
      "|       69|NLS193807060|     3|       false| gomel102|   ??|   NULL|          13.1-2|\n",
      "|       70|NLS193807060|     3|       false| kreem101|   ??|   NULL|             4/F|\n",
      "|       71|NLS193807060|     3|        true| vandj101|   ??|   NULL|              NP|\n",
      "|       73|NLS193807060|     3|        true| leibh101|   ??|   NULL|             7/L|\n",
      "+---------+------------+------+------------+---------+-----+-------+----------------+\n",
      "only showing top 20 rows\n",
      "\n"
     ]
    }
   ],
   "source": [
    "events_table.show()"
   ]
  },
  {
   "cell_type": "code",
   "execution_count": 38,
   "metadata": {},
   "outputs": [
    {
     "data": {
      "text/plain": [
       "[('record_id', 'bigint'),\n",
       " ('game_id', 'string'),\n",
       " ('inning', 'smallint'),\n",
       " ('is_home_team', 'boolean'),\n",
       " ('player_id', 'string'),\n",
       " ('count', 'string'),\n",
       " ('pitches', 'string'),\n",
       " ('play_description', 'string')]"
      ]
     },
     "execution_count": 38,
     "metadata": {},
     "output_type": "execute_result"
    }
   ],
   "source": [
    "events_table.dtypes"
   ]
  },
  {
   "cell_type": "code",
   "execution_count": 39,
   "metadata": {},
   "outputs": [
    {
     "name": "stderr",
     "output_type": "stream",
     "text": [
      "                                                                                \r"
     ]
    },
    {
     "data": {
      "text/plain": [
       "17032081"
      ]
     },
     "execution_count": 39,
     "metadata": {},
     "output_type": "execute_result"
    }
   ],
   "source": [
    "events_table.count()"
   ]
  },
  {
   "cell_type": "markdown",
   "metadata": {},
   "source": [
    "## Test Write to Database"
   ]
  },
  {
   "cell_type": "code",
   "execution_count": 44,
   "metadata": {},
   "outputs": [
    {
     "name": "stderr",
     "output_type": "stream",
     "text": [
      "                                                                                \r"
     ]
    }
   ],
   "source": [
    "from my_secrets import airflow_pgres_pw\n",
    "\n",
    "\n",
    "# db_writer = DataFrameWriter(game_info_table)\n",
    "db_url = 'jdbc:postgresql://localhost:5432/sports'\n",
    "table = 'test.test_spark'\n",
    "mode = 'overwrite'\n",
    "properties = {\"user\": \"airflow\", 'password': airflow_pgres_pw, \n",
    "              'driver': 'org.postgresql.Driver'}\n",
    "game_data_table.write.jdbc(url=db_url, table=table, mode=mode,\n",
    "                           properties=properties)"
   ]
  },
  {
   "cell_type": "code",
   "execution_count": 45,
   "metadata": {},
   "outputs": [
    {
     "name": "stderr",
     "output_type": "stream",
     "text": [
      "                                                                                \r"
     ]
    }
   ],
   "source": [
    "# events_table.write.jdbc(url=db_url, table='test.test_events_table', mode=mode,\n",
    "#                            properties=properties)\n",
    "\n",
    "docker run -p 9000:9000 -p 9001:9001 --name minio \\\n",
    "  -e \"MINIO_ROOT_USER=minioadmin\" \\\n",
    "  -e \"MINIO_ROOT_PASSWORD=minioadmin\" \\\n",
    "  minio/minio server /data --console-address \":9001\"\n"
   ]
  }
 ],
 "metadata": {
  "kernelspec": {
   "display_name": ".venv",
   "language": "python",
   "name": "python3"
  },
  "language_info": {
   "codemirror_mode": {
    "name": "ipython",
    "version": 3
   },
   "file_extension": ".py",
   "mimetype": "text/x-python",
   "name": "python",
   "nbconvert_exporter": "python",
   "pygments_lexer": "ipython3",
   "version": "3.11.9"
  }
 },
 "nbformat": 4,
 "nbformat_minor": 2
}
