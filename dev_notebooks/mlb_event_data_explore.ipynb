{
 "cells": [
  {
   "cell_type": "code",
   "execution_count": 1,
   "metadata": {},
   "outputs": [],
   "source": [
    "import sys, os\n",
    "sys.path.append(os.path.abspath('..'))\n",
    "\n",
    "from pyspark.sql import SparkSession\n",
    "from pyspark.sql import types\n",
    "from pyspark.sql.functions import udf, monotonically_increasing_id, first, split"
   ]
  },
  {
   "cell_type": "code",
   "execution_count": 2,
   "metadata": {},
   "outputs": [
    {
     "name": "stderr",
     "output_type": "stream",
     "text": [
      "Setting default log level to \"WARN\".\n",
      "To adjust logging level use sc.setLogLevel(newLevel). For SparkR, use setLogLevel(newLevel).\n",
      "25/02/24 07:49:15 WARN NativeCodeLoader: Unable to load native-hadoop library for your platform... using builtin-java classes where applicable\n"
     ]
    }
   ],
   "source": [
    "spark = SparkSession.builder.getOrCreate()\n",
    "spark.sparkContext.setCheckpointDir('.checkpoints')"
   ]
  },
  {
   "cell_type": "code",
   "execution_count": 3,
   "metadata": {},
   "outputs": [],
   "source": [
    "# Helper Functions\n",
    "\n",
    "def concat_dataframes(dataframes: list):\n",
    "    out = dataframes.pop()\n",
    "    for df in dataframes:\n",
    "        out = out.union(df)\n",
    "    return out\n",
    "\n",
    "def rename_columns(dataframe, col_name_map:dict[str, str]):\n",
    "    for col in col_name_map.keys():\n",
    "        dataframe = dataframe.withColumnRenamed(col, col_name_map[col])\n",
    "    return dataframe\n",
    "\n",
    "def convert_df_datatypes(df, types:dict[str, list[str]]):\n",
    "    if isinstance(next(iter(types.values())), str): # types expects {'type': ['col1', ...]}\n",
    "        raise TypeError(\"types expects list of columns {'type': ['col1', ...]}\")\n",
    "    types = {types[k][i]: k for k in types.keys() for i in range(len(types[k]))}\n",
    "    return df.withColumns({k: df[k].cast(types[k]) for k in types})\n",
    "\n",
    "def split_csv_column(dataframe, csv_col:str):\n",
    "    col_count = dataframe.head().asDict()[csv_col].count(',') + 1\n",
    "    split_col = split(dataframe[csv_col], ',')\n",
    "    return dataframe.withColumns({f'csv{i}': split_col.getItem(i) for i in range(col_count)})"
   ]
  },
  {
   "cell_type": "markdown",
   "metadata": {},
   "source": [
    "## Source Data - Events"
   ]
  },
  {
   "cell_type": "code",
   "execution_count": 4,
   "metadata": {},
   "outputs": [],
   "source": [
    "DATA_PATH = '/Users/morgan/Documents/Codes/mlbEventData/data/retrosheet/'\n",
    "EVENT_DIRS = ['events/', 'ngl_b/', 'ngl_e/', 'allstar/']\n"
   ]
  },
  {
   "cell_type": "code",
   "execution_count": 5,
   "metadata": {},
   "outputs": [],
   "source": [
    "schema = types.StructType([\n",
    "    types.StructField('event_type', types.StringType(), False),\n",
    "    types.StructField('col2', types.StringType()),\n",
    "    types.StructField('col3', types.StringType()),\n",
    "    types.StructField('col4', types.StringType()),\n",
    "    types.StructField('col5', types.StringType()),\n",
    "    types.StructField('col6', types.StringType()),\n",
    "    types.StructField('col7', types.StringType()),\n",
    "])"
   ]
  },
  {
   "cell_type": "code",
   "execution_count": 6,
   "metadata": {},
   "outputs": [],
   "source": [
    "# import all events\n",
    "events = [spark.read.csv(DATA_PATH + ed, schema=schema) for ed in EVENT_DIRS]\n",
    "events = concat_dataframes(events)"
   ]
  },
  {
   "cell_type": "code",
   "execution_count": 7,
   "metadata": {},
   "outputs": [
    {
     "name": "stderr",
     "output_type": "stream",
     "text": [
      "                                                                                \r"
     ]
    },
    {
     "data": {
      "text/plain": [
       "201693"
      ]
     },
     "execution_count": 7,
     "metadata": {},
     "output_type": "execute_result"
    }
   ],
   "source": [
    "# count of games\n",
    "events.filter(events.event_type == 'id').count()"
   ]
  },
  {
   "cell_type": "code",
   "execution_count": 8,
   "metadata": {},
   "outputs": [],
   "source": [
    "# used in udf\n",
    "class GameId:\n",
    "\n",
    "    def __init__(self):\n",
    "        self.current_id = None\n",
    "\n",
    "    def set_row_id(self, event_type, col2):\n",
    "        if event_type=='id':\n",
    "            self.current_id = col2\n",
    "        if not self.current_id:\n",
    "            raise ValueError('current_id cannot be None.')\n",
    "        return self.current_id"
   ]
  },
  {
   "cell_type": "code",
   "execution_count": 9,
   "metadata": {},
   "outputs": [
    {
     "name": "stderr",
     "output_type": "stream",
     "text": [
      "                                                                                \r"
     ]
    }
   ],
   "source": [
    "gi = GameId()\n",
    "set_game_id = udf(gi.set_row_id)\n",
    "\n",
    "events = events.withColumns({'game_id': set_game_id(events['event_type'], events['col2']),\n",
    "                            'record_id': monotonically_increasing_id()})\n",
    "events = events.checkpoint()  # checkpoint locks game_id & record_id"
   ]
  },
  {
   "cell_type": "code",
   "execution_count": 10,
   "metadata": {},
   "outputs": [
    {
     "name": "stdout",
     "output_type": "stream",
     "text": [
      "+----------+-------------+--------------------+----+----+----+----+------------+---------+\n",
      "|event_type|         col2|                col3|col4|col5|col6|col7|     game_id|record_id|\n",
      "+----------+-------------+--------------------+----+----+----+----+------------+---------+\n",
      "|        id| ALS196007110|                NULL|NULL|NULL|NULL|NULL|ALS196007110|        0|\n",
      "|   version|            1|                NULL|NULL|NULL|NULL|NULL|ALS196007110|        1|\n",
      "|      info|inputprogvers|version 7RS(19) o...|NULL|NULL|NULL|NULL|ALS196007110|        2|\n",
      "|      info|      visteam|                 NLS|NULL|NULL|NULL|NULL|ALS196007110|        3|\n",
      "|      info|     hometeam|                 ALS|NULL|NULL|NULL|NULL|ALS196007110|        4|\n",
      "|      info|         date|          1960/07/11|NULL|NULL|NULL|NULL|ALS196007110|        5|\n",
      "|      info|         site|               KAN05|NULL|NULL|NULL|NULL|ALS196007110|        6|\n",
      "|      info|       number|                   0|NULL|NULL|NULL|NULL|ALS196007110|        7|\n",
      "|      info|    starttime|              0:00PM|NULL|NULL|NULL|NULL|ALS196007110|        8|\n",
      "|      info|     daynight|                 day|NULL|NULL|NULL|NULL|ALS196007110|        9|\n",
      "|      info|        usedh|               false|NULL|NULL|NULL|NULL|ALS196007110|       10|\n",
      "|      info|     gametype|             allstar|NULL|NULL|NULL|NULL|ALS196007110|       11|\n",
      "|      info|      umphome|            honoj901|NULL|NULL|NULL|NULL|ALS196007110|       12|\n",
      "|      info|        ump1b|            gormt101|NULL|NULL|NULL|NULL|ALS196007110|       13|\n",
      "|      info|        ump2b|            chyln901|NULL|NULL|NULL|NULL|ALS196007110|       14|\n",
      "|      info|        ump3b|            boggd901|NULL|NULL|NULL|NULL|ALS196007110|       15|\n",
      "|      info|        umplf|            stevj901|NULL|NULL|NULL|NULL|ALS196007110|       16|\n",
      "|      info|        umprf|            smitv101|NULL|NULL|NULL|NULL|ALS196007110|       17|\n",
      "|      info|       scorer|  TSN Guide 1961,602|NULL|NULL|NULL|NULL|ALS196007110|       18|\n",
      "|      info|   translator|Wayne Townsend,Ti...|NULL|NULL|NULL|NULL|ALS196007110|       19|\n",
      "+----------+-------------+--------------------+----+----+----+----+------------+---------+\n",
      "only showing top 20 rows\n",
      "\n"
     ]
    }
   ],
   "source": [
    "events.show(20)"
   ]
  },
  {
   "cell_type": "code",
   "execution_count": 11,
   "metadata": {},
   "outputs": [
    {
     "data": {
      "text/plain": [
       "[('event_type', 'string'),\n",
       " ('col2', 'string'),\n",
       " ('col3', 'string'),\n",
       " ('col4', 'string'),\n",
       " ('col5', 'string'),\n",
       " ('col6', 'string'),\n",
       " ('col7', 'string'),\n",
       " ('game_id', 'string'),\n",
       " ('record_id', 'bigint')]"
      ]
     },
     "execution_count": 11,
     "metadata": {},
     "output_type": "execute_result"
    }
   ],
   "source": [
    "events.dtypes"
   ]
  },
  {
   "cell_type": "code",
   "execution_count": 12,
   "metadata": {},
   "outputs": [],
   "source": [
    "# events.limit(1000).write.csv('out/test.csv')"
   ]
  },
  {
   "cell_type": "code",
   "execution_count": 13,
   "metadata": {},
   "outputs": [
    {
     "name": "stderr",
     "output_type": "stream",
     "text": [
      "                                                                                \r"
     ]
    },
    {
     "data": {
      "text/plain": [
       "30709643"
      ]
     },
     "execution_count": 13,
     "metadata": {},
     "output_type": "execute_result"
    }
   ],
   "source": [
    "events.count()"
   ]
  },
  {
   "cell_type": "markdown",
   "metadata": {},
   "source": [
    "## Game Info Table"
   ]
  },
  {
   "cell_type": "code",
   "execution_count": 14,
   "metadata": {},
   "outputs": [
    {
     "name": "stderr",
     "output_type": "stream",
     "text": [
      "Java HotSpot(TM) 64-Bit Server VM warning: CodeCache is full. Compiler has been disabled.\n",
      "Java HotSpot(TM) 64-Bit Server VM warning: Try increasing the code cache size using -XX:ReservedCodeCacheSize=\n"
     ]
    },
    {
     "name": "stdout",
     "output_type": "stream",
     "text": [
      "CodeCache: size=131072Kb used=35674Kb max_used=35674Kb free=95397Kb\n",
      " bounds [0x00000001089f8000, 0x000000010ad18000, 0x00000001109f8000]\n",
      " total_blobs=13482 nmethods=12517 adapters=876\n",
      " compilation: disabled (not enough contiguous free space left)\n"
     ]
    },
    {
     "name": "stderr",
     "output_type": "stream",
     "text": [
      "                                                                                \r"
     ]
    }
   ],
   "source": [
    "type_map = {'short': ['number', 'temp', 'timeofgame', 'windspeed'],\n",
    "            'integer': ['attendance'],\n",
    "            'date': ['date'],\n",
    "            'timestamp': ['inputtime']}\n",
    "# also works:\n",
    "# type_map = {types.ShortType(): ['number', 'temp', 'timeofgame', 'windspeed'],\n",
    "#             types.IntegerType(): ['attendance'],\n",
    "#             types.DateType(): ['date'],\n",
    "#             types.TimestampType(): ['inputtime']}\n",
    "\n",
    "game_info_table = (events.filter(events.event_type == 'info')\n",
    "                         .select('game_id', 'col2', 'col3')\n",
    "                         .groupBy('game_id').pivot('col2').agg(first('col3')))\n",
    "game_info_table = convert_df_datatypes(game_info_table, types=type_map)"
   ]
  },
  {
   "cell_type": "code",
   "execution_count": 15,
   "metadata": {},
   "outputs": [
    {
     "name": "stderr",
     "output_type": "stream",
     "text": [
      "25/02/24 07:49:56 WARN SparkStringUtils: Truncated the string representation of a plan since it was too large. This behavior can be adjusted by setting 'spark.sql.debug.maxToStringFields'.\n",
      "[Stage 16:================================================>      (98 + 8) / 111]\r"
     ]
    },
    {
     "name": "stdout",
     "output_type": "stream",
     "text": [
      "+------------+----------+----+--------+--------+---------+------------+-----+--------+----------+---------+----+-------+--------------------+--------------------+---------+--------+------+--------+-------+-------+--------+------------------+-----+--------+---------+----+----------+----------+--------------------+--------+--------+--------+--------+--------+--------+-----+-------+-------+---------+--------+\n",
      "|     game_id|attendance|date|daynight|edittime|fieldcond|    gametype|gwrbi|hometeam|howentered|howscored|htbf|innings|       inputprogvers|            inputter|inputtime|      lp|number| oscorer|pitches| precip|    save|            scorer| site|     sky|starttime|temp|tiebreaker|timeofgame|          translator|   ump1b|   ump2b|   ump3b| umphome|   umplf|   umprf|usedh|visteam|winddir|windspeed|      wp|\n",
      "+------------+----------+----+--------+--------+---------+------------+-----+--------+----------+---------+----+-------+--------------------+--------------------+---------+--------+------+--------+-------+-------+--------+------------------+-----+--------+---------+----+----------+----------+--------------------+--------+--------+--------+--------+--------+--------+-----+-------+-------+---------+--------+\n",
      "|ACY192610060|      1186|NULL|     day|    NULL|  unknown|championship| NULL|     ACY|      NULL|  unknown|NULL|   NULL|version 7RS(19) o...|          Tom Thress|     NULL|powew101|     0|    NULL|   none|unknown|    NULL|              NULL|ACY01| unknown|   0:00PM|   0|      NULL|         0|          Tom Thress|hayeg901|    NULL|    NULL|fyfel901|    NULL|    NULL|false|    CAG|unknown|       -1|griec101|\n",
      "|ACY192710210|         0|NULL|     day|    NULL|  unknown|  exhibition| NULL|     ACY|      NULL|  unknown|NULL|   NULL|version 7RS(19) o...|                NULL|     NULL|farrl101|     0|    NULL|   none|unknown|    NULL|                 0|ACY01| unknown|   0:00PM|   0|      NULL|        -1|                NULL|    NULL|    NULL|    NULL|    NULL|    NULL|    NULL|false|    ALS|unknown|       -1|quinj102|\n",
      "|ALS192610080|         0|NULL|     day|    NULL|  unknown|  exhibition| NULL|     ALS|      NULL|  unknown|NULL|   NULL|version 7RS(19) o...|                NULL|     NULL|quinj102|     0|    NULL|   none|unknown|    NULL|                 0|BLO01| unknown|   0:00PM|   0|      NULL|        95|                NULL|rinku901|    NULL|    NULL|hageu901|    NULL|    NULL|false|    HIL|unknown|       -1|ryanr102|\n",
      "|ALS193707070|     31391|NULL|     day|    NULL|  unknown|     allstar| NULL|     ALS|      NULL|     park|NULL|   NULL|version 7RS(19) o...|         Tim Cashion|     NULL|deand102|     0|    NULL|   none|unknown|hardm101|    Spalding Guide|WAS09| unknown|   0:00PM|   0|      NULL|       150|         Tim Cashion|pineb101|quinj901|barrg901|mcgob901|    NULL|    NULL|false|    NLS|unknown|       -1|gomel102|\n",
      "|ALS195607100|     28843|NULL|     day|    NULL|      dry|     allstar| NULL|     ALS|      NULL|     park|NULL|   NULL|version 7RS(19) o...|Wayne Townsend,Ti...|     NULL|pierb101|     0|    NULL|pitches|   none|antoj103|TSN Guide 1957,602|WAS09|overcast|   0:00PM|   0|      NULL|       165|Wayne Townsend,Ti...|pineb101|hurle901|gorea901|berrc103|jackb901|flahr901|false|    NLS|   tocf|       -1|frieb102|\n",
      "|ALS196307090|     44160|NULL|     day|    NULL|      dry|     allstar| NULL|     ALS|      NULL|     park|NULL|   NULL|version 7RS(19) o...|Wayne Townsend,Ti...|     NULL|bunnj101|     0|    NULL|pitches|   none|drysd101|            44,602|CLE07|   sunny|   0:00PM|  72|      NULL|       140|Wayne Townsend,Ti...|jackb901|smita901|pryop901|soarh901|hallb901|harvd901|false|    NLS|   torf|       15|jackl102|\n",
      "|ALS197907170|     58905|NULL|   night|    NULL|      dry|     allstar| NULL|     ALS|      NULL|     park|NULL|   NULL|version 7RS(19) o...|         Tim Cashion|     NULL|kernj001|     0|    NULL|   none|   none|    NULL|    TSN Guide 1980|SEA02|    dome|   0:00PM|   0|      NULL|       191|         Tim Cashion|weyel901|bremn901|willb901|malog901|coont901|rennd901|false|    NLS|unknown|       -1|suttb001|\n",
      "|ALS199307130|     48147|NULL|   night|    NULL|  unknown|     allstar| NULL|     ALS|      NULL|     park|NULL|   NULL|                NULL|                 DWV|     NULL|burkj001|     0|    NULL|   none|unknown|    NULL|         TSN Guide|BAL12| unknown|     0:00|   0|      NULL|       169|                NULL|davib902|reilm901|darlg901|mckej901|scotd901|hirsm901| true|    NLS|unknown|       -1|mcdoj001|\n",
      "|ANA199704210|     13413|NULL|   night|    NULL|      dry|        NULL| NULL|     ANA|      NULL|     NULL|NULL|   NULL|                NULL|                NULL|     NULL|spolp001|     0|munse701|   none|   none|    NULL|              NULL|ANA01|   night|     7:06|  70|      NULL|       244|                NULL|morrd901|barrt901|koscg901|clara901|    NULL|    NULL| true|    TOR|   rtol|        5|delur001|\n",
      "|ANA199705160|     26033|NULL|   night|    NULL|      dry|        NULL| NULL|     ANA|      NULL|     NULL|NULL|   NULL|                NULL|                NULL|     NULL|mcdob001|     0|munse701|pitches|   none|    NULL|              NULL|ANA01|   night|     7:05|  73|      NULL|       166|                NULL|shulj901|reedr901|tscht901|denkd901|    NULL|    NULL| true|    MIL|   ltor|        8|finlc001|\n",
      "|ANA199708100|     34060|NULL|   night|    NULL|      dry|        NULL| NULL|     ANA|      NULL|     NULL|NULL|   NULL|                NULL|                NULL|     NULL|jamem001|     0|munse701|pitches|   none|myerr001|              NULL|ANA01|  cloudy|     5:05|  75|      NULL|       213|                NULL|kaisk901|hicke901|welkt901|cousd901|    NULL|    NULL| true|    BAL| fromrf|        6|benia001|\n",
      "|ANA199708210|     27102|NULL|   night|    NULL|      dry|        NULL| NULL|     ANA|      NULL|     NULL|NULL|   NULL|                NULL|                NULL|     NULL|harrp001|     0|munse701|pitches|   none|nelsj001|              NULL|ANA01|   night|     7:05|  75|      NULL|       251|                NULL|hirsj901|millb901|joycj901|clara901|    NULL|    NULL| true|    NYA| fromcf|        7|stanm003|\n",
      "|ANA199708260|     21012|NULL|   night|    NULL|      dry|        NULL| NULL|     ANA|      NULL|     NULL|NULL|   NULL|                NULL|                NULL|     NULL|plune001|     0|munse701|pitches|   none|    NULL|              NULL|ANA01|   night|     7:05|  84|      NULL|       187|                NULL|younl901|garcr901|fordd901|reilm901|    NULL|    NULL| true|    CLE|   ltor|        8|may-d002|\n",
      "|ANA199709010|     19614|NULL|   night|    NULL|      dry|        NULL| NULL|     ANA|      NULL|     NULL|NULL|   NULL|                NULL|                NULL|     NULL|watsa001|     0|munse701|pitches|   none|dipoj001|              NULL|ANA01|   night|     7:05|  77|      NULL|       175|                NULL|merrd901|scotd901|phild901|roe-r901|    NULL|    NULL| true|    COL|   ltor|        6|thomj005|\n",
      "|ANA199709020|     18266|NULL|   night|    NULL|      dry|        NULL| NULL|     ANA|      NULL|     NULL|NULL|   NULL|                NULL|                NULL|     NULL|dickj001|     0|munse701|pitches|   none|munom001|              NULL|ANA01|   night|     7:05|  84|      NULL|       181|                NULL|scotd901|phild901|roe-r901|merrd901|    NULL|    NULL| true|    COL|   tolf|        3|astap001|\n",
      "|ANA199709170|     16800|NULL|   night|    NULL|      dry|        NULL| NULL|     ANA|      NULL|     NULL|NULL|   NULL|                NULL|                NULL|     NULL|ludwe001|     0|munse701|pitches|   none|    NULL|              NULL|ANA01|   night|     7:35|  76|      NULL|       199|                NULL|fordd901|younl901|garcr901|clara901|    NULL|    NULL| true|    OAK|   ltor|        7|watsa001|\n",
      "|ANA199709260|     17167|NULL|   night|    NULL|      dry|        NULL| NULL|     ANA|      NULL|     NULL|NULL|   NULL|                NULL|                NULL|     NULL|holtm001|     0|munse701|pitches|   none|    NULL|              NULL|ANA01|   sunny|     9:05|  73|      NULL|       165|                NULL|mckej901|hirsj901|hendt901|joycj901|    NULL|    NULL| true|    TEX|   tolf|        9|hellr001|\n",
      "|ANA199709270|     21676|NULL|   night|    NULL|      dry|        NULL| NULL|     ANA|      NULL|     NULL|NULL|   NULL|                NULL|                NULL|     NULL|santj001|     0|munse701|pitches|   none|    NULL|              NULL|ANA01|   night|     7:05|  78|      NULL|       196|                NULL|hirsj901|hendt901|joycj901|mckej901|    NULL|    NULL| true|    TEX|   torf|        5|perct001|\n",
      "|ANA199804060|     21352|NULL|   night|    NULL|      dry|        NULL| NULL|     ANA|      NULL|     NULL|NULL|   NULL|                NULL|                NULL|     NULL|gordt001|     0|munse701|pitches|   none|    NULL|              NULL|ANA01|  cloudy|     7:05|  60|      NULL|       197|                NULL|roe-r901|merrd901|scotd901|barrt901|    NULL|    NULL| true|    BOS|   tolf|        6|holtm001|\n",
      "|ANA199805080|     31064|NULL|   night|    NULL|      dry|        NULL| NULL|     ANA|      NULL|     NULL|NULL|   NULL|                NULL|                NULL|     NULL|moehb001|     0|munse701|pitches|   none|perct001|              NULL|ANA01|  cloudy|     7:05|  64|      NULL|       155|                NULL|hirsj901|reilm901|garcr901|mcclt901|    NULL|    NULL| true|    DET|   ltor|        5|watsa001|\n",
      "+------------+----------+----+--------+--------+---------+------------+-----+--------+----------+---------+----+-------+--------------------+--------------------+---------+--------+------+--------+-------+-------+--------+------------------+-----+--------+---------+----+----------+----------+--------------------+--------+--------+--------+--------+--------+--------+-----+-------+-------+---------+--------+\n",
      "only showing top 20 rows\n",
      "\n"
     ]
    },
    {
     "name": "stderr",
     "output_type": "stream",
     "text": [
      "                                                                                \r"
     ]
    }
   ],
   "source": [
    "game_info_table.show()"
   ]
  },
  {
   "cell_type": "code",
   "execution_count": 16,
   "metadata": {},
   "outputs": [
    {
     "data": {
      "text/plain": [
       "[('game_id', 'string'),\n",
       " ('attendance', 'int'),\n",
       " ('date', 'date'),\n",
       " ('daynight', 'string'),\n",
       " ('edittime', 'string'),\n",
       " ('fieldcond', 'string'),\n",
       " ('gametype', 'string'),\n",
       " ('gwrbi', 'string'),\n",
       " ('hometeam', 'string'),\n",
       " ('howentered', 'string'),\n",
       " ('howscored', 'string'),\n",
       " ('htbf', 'string'),\n",
       " ('innings', 'string'),\n",
       " ('inputprogvers', 'string'),\n",
       " ('inputter', 'string'),\n",
       " ('inputtime', 'timestamp'),\n",
       " ('lp', 'string'),\n",
       " ('number', 'smallint'),\n",
       " ('oscorer', 'string'),\n",
       " ('pitches', 'string'),\n",
       " ('precip', 'string'),\n",
       " ('save', 'string'),\n",
       " ('scorer', 'string'),\n",
       " ('site', 'string'),\n",
       " ('sky', 'string'),\n",
       " ('starttime', 'string'),\n",
       " ('temp', 'smallint'),\n",
       " ('tiebreaker', 'string'),\n",
       " ('timeofgame', 'smallint'),\n",
       " ('translator', 'string'),\n",
       " ('ump1b', 'string'),\n",
       " ('ump2b', 'string'),\n",
       " ('ump3b', 'string'),\n",
       " ('umphome', 'string'),\n",
       " ('umplf', 'string'),\n",
       " ('umprf', 'string'),\n",
       " ('usedh', 'string'),\n",
       " ('visteam', 'string'),\n",
       " ('winddir', 'string'),\n",
       " ('windspeed', 'smallint'),\n",
       " ('wp', 'string')]"
      ]
     },
     "execution_count": 16,
     "metadata": {},
     "output_type": "execute_result"
    }
   ],
   "source": [
    "game_info_table.dtypes"
   ]
  },
  {
   "cell_type": "code",
   "execution_count": 17,
   "metadata": {},
   "outputs": [
    {
     "name": "stderr",
     "output_type": "stream",
     "text": [
      "                                                                                \r"
     ]
    },
    {
     "data": {
      "text/plain": [
       "200408"
      ]
     },
     "execution_count": 17,
     "metadata": {},
     "output_type": "execute_result"
    }
   ],
   "source": [
    "game_info_table.count()"
   ]
  },
  {
   "cell_type": "markdown",
   "metadata": {},
   "source": [
    "## Game Data Table"
   ]
  },
  {
   "cell_type": "code",
   "execution_count": 18,
   "metadata": {},
   "outputs": [],
   "source": [
    "game_data_table = events.filter(events.event_type == 'data').select(['game_id', 'col2', 'col3', 'col4'])\n",
    "game_data_table = rename_columns(game_data_table, \n",
    "                                 {'col2': 'metric_type', 'col3': 'player_code', 'col4': 'metric_value'})\n",
    "game_data_table = convert_df_datatypes(game_data_table, {'short': ['metric_value']})"
   ]
  },
  {
   "cell_type": "code",
   "execution_count": 19,
   "metadata": {},
   "outputs": [
    {
     "name": "stdout",
     "output_type": "stream",
     "text": [
      "+------------+-----------+-----------+------------+\n",
      "|     game_id|metric_type|player_code|metric_value|\n",
      "+------------+-----------+-----------+------------+\n",
      "|ALS196007110|         er|   frieb102|           0|\n",
      "|ALS196007110|         er|   mccom103|           0|\n",
      "|ALS196007110|         er|   facer101|           0|\n",
      "|ALS196007110|         er|   buhlb101|           1|\n",
      "|ALS196007110|         er|   law-v101|           0|\n",
      "|ALS196007110|         er|   monbb101|           4|\n",
      "|ALS196007110|         er|   estrc101|           1|\n",
      "|ALS196007110|         er|   coatj101|           0|\n",
      "|ALS196007110|         er|   bellg102|           0|\n",
      "|ALS196007110|         er|   laryf101|           0|\n",
      "|ALS196007110|         er|   daleb102|           0|\n",
      "|ALS196007130|         er|   law-v101|           0|\n",
      "|ALS196007130|         er|   podrj101|           0|\n",
      "|ALS196007130|         er|   wills102|           0|\n",
      "|ALS196007130|         er|   jackl102|           0|\n",
      "|ALS196007130|         er|   henrb101|           0|\n",
      "|ALS196007130|         er|   mcdal101|           0|\n",
      "|ALS196007130|         er|   fordw101|           3|\n",
      "|ALS196007130|         er|   wynne101|           0|\n",
      "|ALS196007130|         er|   stalg103|           1|\n",
      "+------------+-----------+-----------+------------+\n",
      "only showing top 20 rows\n",
      "\n"
     ]
    }
   ],
   "source": [
    "game_data_table.show()"
   ]
  },
  {
   "cell_type": "code",
   "execution_count": 20,
   "metadata": {},
   "outputs": [
    {
     "name": "stderr",
     "output_type": "stream",
     "text": [
      "                                                                                \r"
     ]
    },
    {
     "data": {
      "text/plain": [
       "1143314"
      ]
     },
     "execution_count": 20,
     "metadata": {},
     "output_type": "execute_result"
    }
   ],
   "source": [
    "game_data_table.count()"
   ]
  },
  {
   "cell_type": "markdown",
   "metadata": {},
   "source": [
    "## Game Rosters Table"
   ]
  },
  {
   "cell_type": "code",
   "execution_count": 21,
   "metadata": {},
   "outputs": [],
   "source": [
    "game_rosters_table = (events.filter(events.event_type.isin(['start', 'sub']))\n",
    "                            .select(['game_id', 'record_id', 'event_type', \n",
    "                                     'col2', 'col3', 'col4', 'col5', 'col6']))\n",
    "game_rosters_table = rename_columns(game_rosters_table,\n",
    "                                    {'col2': 'player_id', 'col3': 'player_name', \n",
    "                                     'col4': 'is_home_team', 'col5': 'batting_order',\n",
    "                                     'col6': 'fielding_position'})\n",
    "game_rosters_table = convert_df_datatypes(game_rosters_table,\n",
    "                                          {'boolean': ['is_home_team'],\n",
    "                                           'short': ['batting_order', 'fielding_position']})"
   ]
  },
  {
   "cell_type": "code",
   "execution_count": 22,
   "metadata": {},
   "outputs": [
    {
     "name": "stdout",
     "output_type": "stream",
     "text": [
      "+------------+---------+----------+---------+-----------------+------------+-------------+-----------------+\n",
      "|     game_id|record_id|event_type|player_id|      player_name|is_home_team|batting_order|fielding_position|\n",
      "+------------+---------+----------+---------+-----------------+------------+-------------+-----------------+\n",
      "|ALS196007110|       36|     start| maysw101|      Willie Mays|       false|            1|                8|\n",
      "|ALS196007110|       37|     start| skinb101|      Bob Skinner|       false|            2|                7|\n",
      "|ALS196007110|       38|     start| mathe101|    Eddie Mathews|       false|            3|                5|\n",
      "|ALS196007110|       39|     start| aaroh101|       Hank Aaron|       false|            4|                9|\n",
      "|ALS196007110|       40|     start| banke101|      Ernie Banks|       false|            5|                6|\n",
      "|ALS196007110|       41|     start| adcoj101|       Joe Adcock|       false|            6|                3|\n",
      "|ALS196007110|       42|     start| mazeb101|   Bill Mazeroski|       false|            7|                4|\n",
      "|ALS196007110|       43|     start| crand102|     Del Crandall|       false|            8|                2|\n",
      "|ALS196007110|       44|     start| frieb102|       Bob Friend|       false|            9|                1|\n",
      "|ALS196007110|       45|     start| minom101|    Minnie Minoso|        true|            1|                7|\n",
      "|ALS196007110|       46|     start| malzf101|    Frank Malzone|        true|            2|                5|\n",
      "|ALS196007110|       47|     start| marir101|      Roger Maris|        true|            3|                9|\n",
      "|ALS196007110|       48|     start| mantm101|    Mickey Mantle|        true|            4|                8|\n",
      "|ALS196007110|       49|     start| skowb101|     Bill Skowron|        true|            5|                3|\n",
      "|ALS196007110|       50|     start| berry101|       Yogi Berra|        true|            6|                2|\n",
      "|ALS196007110|       51|     start| runnp101|     Pete Runnels|        true|            7|                4|\n",
      "|ALS196007110|       52|     start| hansr102|       Ron Hansen|        true|            8|                6|\n",
      "|ALS196007110|       53|     start| monbb101|Bill Monbouquette|        true|            9|                1|\n",
      "|ALS196007110|       80|       sub| willt103|     Ted Williams|        true|            9|               11|\n",
      "|ALS196007110|       85|       sub| estrc101|    Chuck Estrada|        true|            9|                1|\n",
      "+------------+---------+----------+---------+-----------------+------------+-------------+-----------------+\n",
      "only showing top 20 rows\n",
      "\n"
     ]
    }
   ],
   "source": [
    "game_rosters_table.show()"
   ]
  },
  {
   "cell_type": "code",
   "execution_count": 23,
   "metadata": {},
   "outputs": [],
   "source": [
    "#TODO: dtypes"
   ]
  },
  {
   "cell_type": "markdown",
   "metadata": {},
   "source": [
    "## Umpire Change Events Table"
   ]
  },
  {
   "cell_type": "code",
   "execution_count": 24,
   "metadata": {},
   "outputs": [],
   "source": [
    "umpchange_events_table = events.filter(events.col2.contains('umpchange'))\n",
    "umpchange_events_table = split_csv_column(umpchange_events_table, 'col2')\n",
    "umpchange_events_table = umpchange_events_table.select(['record_id', 'game_id', \n",
    "                                                        'csv1', 'csv2', 'csv3'])\n",
    "umpchange_events_table = rename_columns(umpchange_events_table, {'csv1': 'inning',\n",
    "                                                                 'csv2': 'position',\n",
    "                                                                 'csv3': 'umpire_id'})\n",
    "umpchange_events_table = convert_df_datatypes(umpchange_events_table, {'short': ['inning']})"
   ]
  },
  {
   "cell_type": "code",
   "execution_count": 25,
   "metadata": {},
   "outputs": [
    {
     "name": "stdout",
     "output_type": "stream",
     "text": [
      "+---------+------------+------+--------------+---------+\n",
      "|record_id|     game_id|inning|      position|umpire_id|\n",
      "+---------+------------+------+--------------+---------+\n",
      "|      115|ALS196007110|     5|       umphome| boggd901|\n",
      "|      116|ALS196007110|     5|ump1b.chyln901|     NULL|\n",
      "|      117|ALS196007110|     5|         ump2b| gormt101|\n",
      "|      118|ALS196007110|     5|         ump3b| honoj901|\n",
      "|      330|ALS196007130|     5|       umphome| gormt101|\n",
      "|      331|ALS196007130|     5|         ump1b| honoj901|\n",
      "|      332|ALS196007130|     5|         ump2b| boggd901|\n",
      "|      333|ALS196007130|     5|         ump3b| chyln901|\n",
      "|      938|NLS195907070|     5|       umphome| papaj901|\n",
      "|      939|NLS195907070|     5|         ump1b| donaa901|\n",
      "|      940|NLS195907070|     5|         ump2b| runge901|\n",
      "|      941|NLS195907070|     5|         ump3b| barla901|\n",
      "|     1147|NLS195908030|     5|       umphome| summb901|\n",
      "|     1148|NLS195908030|     5|         ump1b| venzt901|\n",
      "|     1149|NLS195908030|     5|         ump2b| berrc103|\n",
      "|     1150|NLS195908030|     5|         ump3b| jackb901|\n",
      "|     1343|NLS196107110|     5|       umphome| runge901|\n",
      "|     1344|NLS196107110|     5|         ump1b| craws901|\n",
      "|     1345|NLS196107110|     5|         ump2b| umonf901|\n",
      "|     1346|NLS196107110|     5|         ump3b| lands901|\n",
      "+---------+------------+------+--------------+---------+\n",
      "only showing top 20 rows\n",
      "\n"
     ]
    }
   ],
   "source": [
    "umpchange_events_table.show()"
   ]
  },
  {
   "cell_type": "code",
   "execution_count": 26,
   "metadata": {},
   "outputs": [
    {
     "name": "stderr",
     "output_type": "stream",
     "text": [
      "                                                                                \r"
     ]
    },
    {
     "data": {
      "text/plain": [
       "1582"
      ]
     },
     "execution_count": 26,
     "metadata": {},
     "output_type": "execute_result"
    }
   ],
   "source": [
    "umpchange_events_table.count()"
   ]
  },
  {
   "cell_type": "code",
   "execution_count": 27,
   "metadata": {},
   "outputs": [
    {
     "data": {
      "text/plain": [
       "[('record_id', 'bigint'),\n",
       " ('game_id', 'string'),\n",
       " ('inning', 'smallint'),\n",
       " ('position', 'string'),\n",
       " ('umpire_id', 'string')]"
      ]
     },
     "execution_count": 27,
     "metadata": {},
     "output_type": "execute_result"
    }
   ],
   "source": [
    "umpchange_events_table.dtypes"
   ]
  },
  {
   "cell_type": "markdown",
   "metadata": {},
   "source": [
    "## Comments Table"
   ]
  },
  {
   "cell_type": "code",
   "execution_count": 28,
   "metadata": {},
   "outputs": [],
   "source": [
    "comments_table = (events.filter(events.event_type == 'com')\n",
    "                              .filter(~events.col2.contains('umpchange'))\n",
    "                              .select(['record_id', 'game_id', 'col2']))"
   ]
  },
  {
   "cell_type": "code",
   "execution_count": 29,
   "metadata": {},
   "outputs": [
    {
     "name": "stdout",
     "output_type": "stream",
     "text": [
      "+---------+------------+---------------------------------------------------------------------+\n",
      "|record_id|game_id     |col2                                                                 |\n",
      "+---------+------------+---------------------------------------------------------------------+\n",
      "|54       |ALS196007110|$Managers: Walter Alston (NL Los Angeles), Al Lopez (AL Chicago);    |\n",
      "|55       |ALS196007110|Rosters 30, not 25; starters chosen by managers, players             |\n",
      "|56       |ALS196007110|and coaches; no voting for own team; reserves and pitchers           |\n",
      "|57       |ALS196007110|chosen by Alston and Lopez.                                          |\n",
      "|58       |ALS196007110|$Weather: temps reached 100 degrees by the 8th inning.               |\n",
      "|119      |ALS196007110|$The umpires changed positions                                       |\n",
      "|205      |ALS196007110|$Boyer reached 3B but returned to 2B because of fan interference     |\n",
      "|280      |ALS196007130|$Managers: Walter Alston (NL Los Angeles), Al Lopez (AL Chicago)     |\n",
      "|334      |ALS196007130|$the umpires changed positions                                       |\n",
      "|502      |ALS196207100|$Managers: Fred Hutchinson (NL Cincinnati), Ralph Houk (AL New York);|\n",
      "|503      |ALS196207100|MVP: Maury Wills (NL Los Angeles).                                   |\n",
      "|504      |ALS196207100|roster size was 25; starters chosen by managers, players,            |\n",
      "|505      |ALS196207100|and coaches; no voting for own team. Reserves and pitchers           |\n",
      "|506      |ALS196207100|chosen by managers Houk and Hutchinson; President John F.            |\n",
      "|507      |ALS196207100|Kennedy threw out the first pitch.                                   |\n",
      "|688      |NLS196207300|$Managers: Fred Hutchinson (NL Cincinnati), Ralph Houk (AL New York);|\n",
      "|689      |NLS196207300|MVP: Leon Wagner (Los Angeles AL)                                    |\n",
      "|690      |NLS196207300|Overflow crowd was allowed to sit in CF bleachers.                   |\n",
      "|785      |NLS196207300|$Aaron claimed a catch; 2B ump Burkhart ruled a trap                 |\n",
      "|896      |NLS195907070|$Managers:  Fred Haney (NL Milwaukee), Casey Stengel (AL New York);  |\n",
      "+---------+------------+---------------------------------------------------------------------+\n",
      "only showing top 20 rows\n",
      "\n"
     ]
    }
   ],
   "source": [
    "comments_table.show(20, False)"
   ]
  },
  {
   "cell_type": "code",
   "execution_count": 30,
   "metadata": {},
   "outputs": [
    {
     "name": "stderr",
     "output_type": "stream",
     "text": [
      "                                                                                \r"
     ]
    },
    {
     "data": {
      "text/plain": [
       "234070"
      ]
     },
     "execution_count": 30,
     "metadata": {},
     "output_type": "execute_result"
    }
   ],
   "source": [
    "comments_table.count()"
   ]
  },
  {
   "cell_type": "markdown",
   "metadata": {},
   "source": [
    "## Adjustments Table"
   ]
  },
  {
   "cell_type": "code",
   "execution_count": 31,
   "metadata": {},
   "outputs": [],
   "source": [
    "@udf(returnType=types.MapType(types.StringType(), types.StringType()))\n",
    "def _adjustment_values_map(event_type, col2, col3):\n",
    "    if event_type == 'badj':\n",
    "        out = {'event_name': 'Batter Adjustment','player_id': col2, 'hand': col3}\n",
    "    elif event_type == 'padj':\n",
    "        out = {'event_name': 'Pitcher Adjustment', 'player_id': col2, 'hand': col3}\n",
    "    elif event_type == 'ladj':\n",
    "        out = {'event_name': 'Lineup Adjustment', 'batting_team': col2, 'batting_order_position': col3}\n",
    "    elif event_type == 'radj':\n",
    "        out = {'event_name': 'Runner Adjustment', 'player_id': col2, 'base': col3}\n",
    "    elif event_type == 'presadj':\n",
    "        out = {'event_name': 'Pitcher Responsiblity Adjustment', 'player_id': col2, 'base': col3}\n",
    "    else:\n",
    "        out = None\n",
    "    return out\n"
   ]
  },
  {
   "cell_type": "code",
   "execution_count": 32,
   "metadata": {},
   "outputs": [],
   "source": [
    "adjustments_table = events.filter(events.event_type.isin(['badj', 'padj', 'ladj', 'radj', 'presadj']))\n",
    "adjustments_table = (adjustments_table.withColumn('adjustment_events_map',\n",
    "                                                  _adjustment_values_map(adjustments_table.event_type,\n",
    "                                                                         adjustments_table.col2,\n",
    "                                                                         adjustments_table.col3))\n",
    "                                      .select(['record_id', 'game_id', \n",
    "                                               'event_type', 'adjustment_events_map']))"
   ]
  },
  {
   "cell_type": "code",
   "execution_count": 33,
   "metadata": {},
   "outputs": [
    {
     "name": "stdout",
     "output_type": "stream",
     "text": [
      "+-----------+------------+----------+----------------------------------------------------------------------------------+\n",
      "|record_id  |game_id     |event_type|adjustment_events_map                                                             |\n",
      "+-----------+------------+----------+----------------------------------------------------------------------------------+\n",
      "|68719492263|DET194406160|presadj   |{event_name -> Pitcher Responsiblity Adjustment, player_id -> orrej101, base -> 3}|\n",
      "|68719493840|DET194408272|presadj   |{event_name -> Pitcher Responsiblity Adjustment, player_id -> eatoz101, base -> 3}|\n",
      "|68719541035|PHA194505240|ladj      |{batting_order_position -> 6, event_name -> Lineup Adjustment, batting_team -> 1} |\n",
      "|68719541038|PHA194505240|ladj      |{batting_order_position -> 5, event_name -> Lineup Adjustment, batting_team -> 1} |\n",
      "|68719541047|PHA194505240|ladj      |{batting_order_position -> 6, event_name -> Lineup Adjustment, batting_team -> 1} |\n",
      "|68719545667|MIA202403280|radj      |{event_name -> Runner Adjustment, player_id -> davih001, base -> 2}               |\n",
      "|68719545675|MIA202403280|radj      |{event_name -> Runner Adjustment, player_id -> delab001, base -> 2}               |\n",
      "|68719545680|MIA202403280|radj      |{event_name -> Runner Adjustment, player_id -> taylm002, base -> 2}               |\n",
      "|68719545686|MIA202403280|radj      |{event_name -> Runner Adjustment, player_id -> garca003, base -> 2}               |\n",
      "|68719545695|MIA202403280|radj      |{event_name -> Runner Adjustment, player_id -> hayek001, base -> 2}               |\n",
      "|68719545703|MIA202403280|radj      |{event_name -> Runner Adjustment, player_id -> bethc001, base -> 2}               |\n",
      "|68719546258|MIA202403310|radj      |{event_name -> Runner Adjustment, player_id -> tellr001, base -> 2}               |\n",
      "|68719546278|MIA202403310|radj      |{event_name -> Runner Adjustment, player_id -> arral001, base -> 2}               |\n",
      "|68719548748|MIA202404300|radj      |{event_name -> Runner Adjustment, player_id -> boucs001, base -> 2}               |\n",
      "|68719548760|MIA202404300|radj      |{event_name -> Runner Adjustment, player_id -> bethc001, base -> 2}               |\n",
      "|68719549110|MIA202405020|radj      |{event_name -> Runner Adjustment, player_id -> tovae001, base -> 2}               |\n",
      "|68719549115|MIA202405020|radj      |{event_name -> Runner Adjustment, player_id -> arral001, base -> 2}               |\n",
      "|68719549654|MIA202405120|radj      |{event_name -> Runner Adjustment, player_id -> merrw001, base -> 2}               |\n",
      "|68719549675|MIA202405120|radj      |{event_name -> Runner Adjustment, player_id -> fortn001, base -> 2}               |\n",
      "|68719550033|MIA202405180|radj      |{event_name -> Runner Adjustment, player_id -> lindf001, base -> 2}               |\n",
      "+-----------+------------+----------+----------------------------------------------------------------------------------+\n",
      "only showing top 20 rows\n",
      "\n"
     ]
    }
   ],
   "source": [
    "adjustments_table.show(20, False)"
   ]
  },
  {
   "cell_type": "code",
   "execution_count": 34,
   "metadata": {},
   "outputs": [
    {
     "data": {
      "text/plain": [
       "[('record_id', 'bigint'),\n",
       " ('game_id', 'string'),\n",
       " ('event_type', 'string'),\n",
       " ('adjustment_events_map', 'map<string,string>')]"
      ]
     },
     "execution_count": 34,
     "metadata": {},
     "output_type": "execute_result"
    }
   ],
   "source": [
    "adjustments_table.dtypes"
   ]
  },
  {
   "cell_type": "code",
   "execution_count": 35,
   "metadata": {},
   "outputs": [
    {
     "name": "stderr",
     "output_type": "stream",
     "text": [
      "                                                                                \r"
     ]
    },
    {
     "data": {
      "text/plain": [
       "8227"
      ]
     },
     "execution_count": 35,
     "metadata": {},
     "output_type": "execute_result"
    }
   ],
   "source": [
    "adjustments_table.count()"
   ]
  },
  {
   "cell_type": "markdown",
   "metadata": {},
   "source": [
    "## Events Table"
   ]
  },
  {
   "cell_type": "code",
   "execution_count": 36,
   "metadata": {},
   "outputs": [],
   "source": [
    "events_table = (events.filter(events.event_type == 'play')\n",
    "                      .select(['record_id', 'game_id', 'col2', 'col3', \n",
    "                               'col4', 'col5', 'col6', 'col7']))\n",
    "col_names = {'col2': 'inning', 'col3': 'is_home_team', 'col4': 'player_id', \n",
    "             'col5': 'count', 'col6': 'pitches', 'col7': 'play_description'}\n",
    "events_table = rename_columns(events_table, col_names)\n",
    "events_table = convert_df_datatypes(events_table, {'short': ['inning'], \n",
    "                                                   'boolean': ['is_home_team']})"
   ]
  },
  {
   "cell_type": "code",
   "execution_count": 37,
   "metadata": {},
   "outputs": [
    {
     "name": "stdout",
     "output_type": "stream",
     "text": [
      "+---------+------------+------+------------+---------+-----+--------+----------------+\n",
      "|record_id|     game_id|inning|is_home_team|player_id|count| pitches|play_description|\n",
      "+---------+------------+------+------------+---------+-----+--------+----------------+\n",
      "|       59|ALS196007110|     1|       false| maysw101|   10|      BX|          T9/L9L|\n",
      "|       60|ALS196007110|     1|       false| skinb101|   00|       X|      S8/L78.3-H|\n",
      "|       61|ALS196007110|     1|       false| mathe101|   02|     CCX|       3/P23F/FL|\n",
      "|       62|ALS196007110|     1|       false| aaroh101|   10|     B>B|             SB2|\n",
      "|       63|ALS196007110|     1|       false| aaroh101|   32|B>B.BSSX|          8/F89S|\n",
      "|       64|ALS196007110|     1|       false| banke101|   02|     CFX|    HR/F78XD.2-H|\n",
      "|       65|ALS196007110|     1|       false| adcoj101|   00|       X|           9/F9D|\n",
      "|       66|ALS196007110|     1|        true| minom101|   12|   BCFFX|          8/F78S|\n",
      "|       67|ALS196007110|     1|        true| malzf101|   12|    BFFX|            E5/G|\n",
      "|       68|ALS196007110|     1|        true| marir101|   02|     CFS|               K|\n",
      "|       69|ALS196007110|     1|        true| mantm101|   32| BBSBC>B|           W.1-2|\n",
      "|       70|ALS196007110|     1|        true| skowb101|   02|     FFS|               K|\n",
      "|       71|ALS196007110|     2|       false| mazeb101|   11|     BCX|       3/P3DF/FL|\n",
      "|       72|ALS196007110|     2|       false| crand102|   00|       X|          HR/F7D|\n",
      "|       73|ALS196007110|     2|       false| frieb102|   32|  BBCSBT|               K|\n",
      "|       74|ALS196007110|     2|       false| maysw101|   01|      FX|          S7/G56|\n",
      "|       75|ALS196007110|     2|       false| skinb101|   12|B1K11F>S|               K|\n",
      "|       76|ALS196007110|     2|        true| berry101|   01|      CX|       5/P5DF/FL|\n",
      "|       77|ALS196007110|     2|        true| runnp101|   32|  FFBBBX|           7/L7D|\n",
      "|       78|ALS196007110|     2|        true| hansr102|   32| FBCBFBX|          S8/G46|\n",
      "+---------+------------+------+------------+---------+-----+--------+----------------+\n",
      "only showing top 20 rows\n",
      "\n"
     ]
    }
   ],
   "source": [
    "events_table.show()"
   ]
  },
  {
   "cell_type": "code",
   "execution_count": 38,
   "metadata": {},
   "outputs": [
    {
     "data": {
      "text/plain": [
       "[('record_id', 'bigint'),\n",
       " ('game_id', 'string'),\n",
       " ('inning', 'smallint'),\n",
       " ('is_home_team', 'boolean'),\n",
       " ('player_id', 'string'),\n",
       " ('count', 'string'),\n",
       " ('pitches', 'string'),\n",
       " ('play_description', 'string')]"
      ]
     },
     "execution_count": 38,
     "metadata": {},
     "output_type": "execute_result"
    }
   ],
   "source": [
    "events_table.dtypes"
   ]
  },
  {
   "cell_type": "code",
   "execution_count": 39,
   "metadata": {},
   "outputs": [
    {
     "name": "stderr",
     "output_type": "stream",
     "text": [
      "                                                                                \r"
     ]
    },
    {
     "data": {
      "text/plain": [
       "17467488"
      ]
     },
     "execution_count": 39,
     "metadata": {},
     "output_type": "execute_result"
    }
   ],
   "source": [
    "events_table.count()"
   ]
  },
  {
   "cell_type": "markdown",
   "metadata": {},
   "source": [
    "## Test Write to Database"
   ]
  },
  {
   "cell_type": "code",
   "execution_count": 40,
   "metadata": {},
   "outputs": [],
   "source": [
    "# from my_secrets import airflow_pgres_pw\n",
    "\n",
    "\n",
    "# # db_writer = DataFrameWriter(game_info_table)\n",
    "# db_url = 'jdbc:postgresql://localhost:5432/sports'\n",
    "# table = 'test.test_spark'\n",
    "# mode = 'overwrite'\n",
    "# properties = {\"user\": \"airflow\", 'password': airflow_pgres_pw, \n",
    "#               'driver': 'org.postgresql.Driver'}\n",
    "# game_data_table.write.jdbc(url=db_url, table=table, mode=mode,\n",
    "#                            properties=properties)"
   ]
  }
 ],
 "metadata": {
  "kernelspec": {
   "display_name": ".venv",
   "language": "python",
   "name": "python3"
  },
  "language_info": {
   "codemirror_mode": {
    "name": "ipython",
    "version": 3
   },
   "file_extension": ".py",
   "mimetype": "text/x-python",
   "name": "python",
   "nbconvert_exporter": "python",
   "pygments_lexer": "ipython3",
   "version": "3.11.9"
  }
 },
 "nbformat": 4,
 "nbformat_minor": 2
}
